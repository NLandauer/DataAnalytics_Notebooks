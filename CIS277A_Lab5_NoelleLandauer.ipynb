{
 "cells": [
  {
   "cell_type": "markdown",
   "id": "f8e0b467-eacd-4ef4-a8da-2956e743611c",
   "metadata": {
    "jupyter": {
     "source_hidden": true
    },
    "tags": []
   },
   "source": [
    "### Noelle Landauer\n",
    "### CIS277A, Lab 5, 11/2/22"
   ]
  },
  {
   "cell_type": "markdown",
   "id": "27693c93-7ca5-4ae8-b7ea-099a7fb81ad6",
   "metadata": {},
   "source": [
    "# Native Bee Incidence in Oregon in 2019"
   ]
  },
  {
   "cell_type": "markdown",
   "id": "f1f32fa3-5703-4b49-bf5c-2c5d13d6ebb3",
   "metadata": {},
   "source": [
    "[Original Data Source](https://www.gbif.org/dataset/3301620d-6750-434e-97ad-abfac165bb9c)"
   ]
  },
  {
   "cell_type": "markdown",
   "id": "ba83f4e0-61cf-4606-81e5-f668f5def4f4",
   "metadata": {},
   "source": [
    "The Oregon Bee Atlas is an publically-funded survey of native bee species in the state. Incidence data from the first two years of the study, 2018 and 2019, is available through the Global Biodiversity Information Facility (GBIF) with a Creative Commons usage license. This data set only includes the 2019 season."
   ]
  },
  {
   "cell_type": "markdown",
   "id": "e4f7d2e6-ae8a-442a-8e3d-028bc4af024e",
   "metadata": {},
   "source": [
    "Import Python modules:"
   ]
  },
  {
   "cell_type": "code",
   "execution_count": 1,
   "id": "a6b34487-85af-4ab1-a9b3-2ad8df57d395",
   "metadata": {},
   "outputs": [],
   "source": [
    "import pandas as pd\n",
    "import pyodbc\n",
    "import seaborn as sns"
   ]
  },
  {
   "cell_type": "markdown",
   "id": "f0d23cd0-a67d-44fe-b9ea-fcc8a61d0b38",
   "metadata": {},
   "source": [
    "Read the Excel file into a Pandas Dataframe. The file has ~25K rows so it takes a few seconds."
   ]
  },
  {
   "cell_type": "code",
   "execution_count": 188,
   "id": "5348f405-9ee3-46cf-9e87-eee36fb6a6cf",
   "metadata": {},
   "outputs": [
    {
     "data": {
      "text/html": [
       "<div>\n",
       "<style scoped>\n",
       "    .dataframe tbody tr th:only-of-type {\n",
       "        vertical-align: middle;\n",
       "    }\n",
       "\n",
       "    .dataframe tbody tr th {\n",
       "        vertical-align: top;\n",
       "    }\n",
       "\n",
       "    .dataframe thead th {\n",
       "        text-align: right;\n",
       "    }\n",
       "</style>\n",
       "<table border=\"1\" class=\"dataframe\">\n",
       "  <thead>\n",
       "    <tr style=\"text-align: right;\">\n",
       "      <th></th>\n",
       "      <th>gbifID</th>\n",
       "      <th>datasetKey</th>\n",
       "      <th>occurrenceID</th>\n",
       "      <th>kingdom</th>\n",
       "      <th>phylum</th>\n",
       "      <th>class</th>\n",
       "      <th>order</th>\n",
       "      <th>family</th>\n",
       "      <th>genus</th>\n",
       "      <th>species</th>\n",
       "      <th>...</th>\n",
       "      <th>identifiedBy</th>\n",
       "      <th>dateIdentified</th>\n",
       "      <th>license</th>\n",
       "      <th>rightsHolder</th>\n",
       "      <th>recordedBy</th>\n",
       "      <th>typeStatus</th>\n",
       "      <th>establishmentMeans</th>\n",
       "      <th>lastInterpreted</th>\n",
       "      <th>mediaType</th>\n",
       "      <th>issue</th>\n",
       "    </tr>\n",
       "  </thead>\n",
       "  <tbody>\n",
       "    <tr>\n",
       "      <th>0</th>\n",
       "      <td>3499823031</td>\n",
       "      <td>3301620d-6750-434e-97ad-abfac165bb9c</td>\n",
       "      <td>https://osac.oregonstate.edu/OBS/OBA_1923053</td>\n",
       "      <td>Animalia</td>\n",
       "      <td>Arthropoda</td>\n",
       "      <td>Insecta</td>\n",
       "      <td>Hymenoptera</td>\n",
       "      <td>Halictidae</td>\n",
       "      <td>Halictus</td>\n",
       "      <td>Halictus ligatus</td>\n",
       "      <td>...</td>\n",
       "      <td>Lincoln R. Best</td>\n",
       "      <td>2020-01-01</td>\n",
       "      <td>CC_BY_NC_4_0</td>\n",
       "      <td>Oregon State University</td>\n",
       "      <td>Patti Wittrup</td>\n",
       "      <td>NaN</td>\n",
       "      <td>NaN</td>\n",
       "      <td>2022-09-08 06:08:17.419</td>\n",
       "      <td>NaN</td>\n",
       "      <td>GEODETIC_DATUM_ASSUMED_WGS84;INSTITUTION_MATCH...</td>\n",
       "    </tr>\n",
       "    <tr>\n",
       "      <th>1</th>\n",
       "      <td>3499823030</td>\n",
       "      <td>3301620d-6750-434e-97ad-abfac165bb9c</td>\n",
       "      <td>https://osac.oregonstate.edu/OBS/OBA_1913691</td>\n",
       "      <td>Animalia</td>\n",
       "      <td>Arthropoda</td>\n",
       "      <td>Insecta</td>\n",
       "      <td>Hymenoptera</td>\n",
       "      <td>Megachilidae</td>\n",
       "      <td>Osmia</td>\n",
       "      <td>Osmia densa</td>\n",
       "      <td>...</td>\n",
       "      <td>Lincoln R. Best</td>\n",
       "      <td>2020-01-01</td>\n",
       "      <td>CC_BY_NC_4_0</td>\n",
       "      <td>Oregon State University</td>\n",
       "      <td>Judith Maxwell</td>\n",
       "      <td>NaN</td>\n",
       "      <td>NaN</td>\n",
       "      <td>2022-09-08 06:08:17.423</td>\n",
       "      <td>NaN</td>\n",
       "      <td>GEODETIC_DATUM_ASSUMED_WGS84;INSTITUTION_MATCH...</td>\n",
       "    </tr>\n",
       "    <tr>\n",
       "      <th>2</th>\n",
       "      <td>3499823029</td>\n",
       "      <td>3301620d-6750-434e-97ad-abfac165bb9c</td>\n",
       "      <td>https://osac.oregonstate.edu/OBS/OBA_1913673</td>\n",
       "      <td>Animalia</td>\n",
       "      <td>Arthropoda</td>\n",
       "      <td>Insecta</td>\n",
       "      <td>Hymenoptera</td>\n",
       "      <td>Megachilidae</td>\n",
       "      <td>Protosmia</td>\n",
       "      <td>Protosmia rubifloris</td>\n",
       "      <td>...</td>\n",
       "      <td>Lincoln R. Best</td>\n",
       "      <td>2020-01-01</td>\n",
       "      <td>CC_BY_NC_4_0</td>\n",
       "      <td>Oregon State University</td>\n",
       "      <td>Judith Maxwell</td>\n",
       "      <td>NaN</td>\n",
       "      <td>NaN</td>\n",
       "      <td>2022-09-08 06:08:17.421</td>\n",
       "      <td>NaN</td>\n",
       "      <td>GEODETIC_DATUM_ASSUMED_WGS84;INSTITUTION_MATCH...</td>\n",
       "    </tr>\n",
       "    <tr>\n",
       "      <th>3</th>\n",
       "      <td>3499823028</td>\n",
       "      <td>3301620d-6750-434e-97ad-abfac165bb9c</td>\n",
       "      <td>https://osac.oregonstate.edu/OBS/OBA_1901618</td>\n",
       "      <td>Animalia</td>\n",
       "      <td>Arthropoda</td>\n",
       "      <td>Insecta</td>\n",
       "      <td>Hymenoptera</td>\n",
       "      <td>Halictidae</td>\n",
       "      <td>Halictus</td>\n",
       "      <td>Halictus farinosus</td>\n",
       "      <td>...</td>\n",
       "      <td>Lincoln R. Best</td>\n",
       "      <td>2020-01-01</td>\n",
       "      <td>CC_BY_NC_4_0</td>\n",
       "      <td>Oregon State University</td>\n",
       "      <td>Judith Maxwell</td>\n",
       "      <td>NaN</td>\n",
       "      <td>NaN</td>\n",
       "      <td>2022-09-08 06:08:17.411</td>\n",
       "      <td>NaN</td>\n",
       "      <td>GEODETIC_DATUM_ASSUMED_WGS84;INSTITUTION_MATCH...</td>\n",
       "    </tr>\n",
       "    <tr>\n",
       "      <th>4</th>\n",
       "      <td>3499823027</td>\n",
       "      <td>3301620d-6750-434e-97ad-abfac165bb9c</td>\n",
       "      <td>https://osac.oregonstate.edu/OBS/OBA_1923023</td>\n",
       "      <td>Animalia</td>\n",
       "      <td>Arthropoda</td>\n",
       "      <td>Insecta</td>\n",
       "      <td>Hymenoptera</td>\n",
       "      <td>Apidae</td>\n",
       "      <td>Anthophora</td>\n",
       "      <td>Anthophora urbana</td>\n",
       "      <td>...</td>\n",
       "      <td>Lincoln R. Best</td>\n",
       "      <td>2020-01-01</td>\n",
       "      <td>CC_BY_NC_4_0</td>\n",
       "      <td>Oregon State University</td>\n",
       "      <td>Heike Williams</td>\n",
       "      <td>NaN</td>\n",
       "      <td>NaN</td>\n",
       "      <td>2022-09-08 06:08:17.416</td>\n",
       "      <td>NaN</td>\n",
       "      <td>GEODETIC_DATUM_ASSUMED_WGS84;INSTITUTION_MATCH...</td>\n",
       "    </tr>\n",
       "    <tr>\n",
       "      <th>...</th>\n",
       "      <td>...</td>\n",
       "      <td>...</td>\n",
       "      <td>...</td>\n",
       "      <td>...</td>\n",
       "      <td>...</td>\n",
       "      <td>...</td>\n",
       "      <td>...</td>\n",
       "      <td>...</td>\n",
       "      <td>...</td>\n",
       "      <td>...</td>\n",
       "      <td>...</td>\n",
       "      <td>...</td>\n",
       "      <td>...</td>\n",
       "      <td>...</td>\n",
       "      <td>...</td>\n",
       "      <td>...</td>\n",
       "      <td>...</td>\n",
       "      <td>...</td>\n",
       "      <td>...</td>\n",
       "      <td>...</td>\n",
       "      <td>...</td>\n",
       "    </tr>\n",
       "    <tr>\n",
       "      <th>24674</th>\n",
       "      <td>3467769400</td>\n",
       "      <td>3301620d-6750-434e-97ad-abfac165bb9c</td>\n",
       "      <td>https://osac.oregonstate.edu/SP/OSAC_0001276270</td>\n",
       "      <td>Animalia</td>\n",
       "      <td>Arthropoda</td>\n",
       "      <td>Insecta</td>\n",
       "      <td>Hymenoptera</td>\n",
       "      <td>Apidae</td>\n",
       "      <td>Anthophora</td>\n",
       "      <td>Anthophora bomboides</td>\n",
       "      <td>...</td>\n",
       "      <td>Lincoln R. Best</td>\n",
       "      <td>2020-01-01</td>\n",
       "      <td>CC_BY_NC_4_0</td>\n",
       "      <td>Oregon State University</td>\n",
       "      <td>Michael O'Loughlin</td>\n",
       "      <td>NaN</td>\n",
       "      <td>NaN</td>\n",
       "      <td>2022-09-08 06:08:11.394</td>\n",
       "      <td>NaN</td>\n",
       "      <td>GEODETIC_DATUM_ASSUMED_WGS84;INSTITUTION_MATCH...</td>\n",
       "    </tr>\n",
       "    <tr>\n",
       "      <th>24675</th>\n",
       "      <td>3467769397</td>\n",
       "      <td>3301620d-6750-434e-97ad-abfac165bb9c</td>\n",
       "      <td>https://osac.oregonstate.edu/SP/OSAC_0001276287</td>\n",
       "      <td>Animalia</td>\n",
       "      <td>Arthropoda</td>\n",
       "      <td>Insecta</td>\n",
       "      <td>Hymenoptera</td>\n",
       "      <td>Apidae</td>\n",
       "      <td>Anthophora</td>\n",
       "      <td>Anthophora ursina</td>\n",
       "      <td>...</td>\n",
       "      <td>Lincoln R. Best</td>\n",
       "      <td>2020-01-01</td>\n",
       "      <td>CC_BY_NC_4_0</td>\n",
       "      <td>Oregon State University</td>\n",
       "      <td>Ellen Watrous</td>\n",
       "      <td>NaN</td>\n",
       "      <td>NaN</td>\n",
       "      <td>2022-09-08 06:08:11.396</td>\n",
       "      <td>NaN</td>\n",
       "      <td>GEODETIC_DATUM_ASSUMED_WGS84;INSTITUTION_MATCH...</td>\n",
       "    </tr>\n",
       "    <tr>\n",
       "      <th>24676</th>\n",
       "      <td>3467769390</td>\n",
       "      <td>3301620d-6750-434e-97ad-abfac165bb9c</td>\n",
       "      <td>https://osac.oregonstate.edu/SP/OSAC_0001276284</td>\n",
       "      <td>Animalia</td>\n",
       "      <td>Arthropoda</td>\n",
       "      <td>Insecta</td>\n",
       "      <td>Hymenoptera</td>\n",
       "      <td>Apidae</td>\n",
       "      <td>Anthophora</td>\n",
       "      <td>Anthophora ursina</td>\n",
       "      <td>...</td>\n",
       "      <td>Lincoln R. Best</td>\n",
       "      <td>2020-01-01</td>\n",
       "      <td>CC_BY_NC_4_0</td>\n",
       "      <td>Oregon State University</td>\n",
       "      <td>Gretchen Pederson</td>\n",
       "      <td>NaN</td>\n",
       "      <td>NaN</td>\n",
       "      <td>2022-09-08 06:08:11.507</td>\n",
       "      <td>NaN</td>\n",
       "      <td>GEODETIC_DATUM_ASSUMED_WGS84;INSTITUTION_MATCH...</td>\n",
       "    </tr>\n",
       "    <tr>\n",
       "      <th>24677</th>\n",
       "      <td>3467769385</td>\n",
       "      <td>3301620d-6750-434e-97ad-abfac165bb9c</td>\n",
       "      <td>https://osac.oregonstate.edu/SP/OSAC_0001276289</td>\n",
       "      <td>Animalia</td>\n",
       "      <td>Arthropoda</td>\n",
       "      <td>Insecta</td>\n",
       "      <td>Hymenoptera</td>\n",
       "      <td>Apidae</td>\n",
       "      <td>Anthophora</td>\n",
       "      <td>Anthophora ursina</td>\n",
       "      <td>...</td>\n",
       "      <td>Lincoln R. Best</td>\n",
       "      <td>2020-01-01</td>\n",
       "      <td>CC_BY_NC_4_0</td>\n",
       "      <td>Oregon State University</td>\n",
       "      <td>Michael O'Loughlin</td>\n",
       "      <td>NaN</td>\n",
       "      <td>NaN</td>\n",
       "      <td>2022-09-08 06:08:11.396</td>\n",
       "      <td>NaN</td>\n",
       "      <td>GEODETIC_DATUM_ASSUMED_WGS84;INSTITUTION_MATCH...</td>\n",
       "    </tr>\n",
       "    <tr>\n",
       "      <th>24678</th>\n",
       "      <td>3467769380</td>\n",
       "      <td>3301620d-6750-434e-97ad-abfac165bb9c</td>\n",
       "      <td>https://osac.oregonstate.edu/SP/OSAC_0001276280</td>\n",
       "      <td>Animalia</td>\n",
       "      <td>Arthropoda</td>\n",
       "      <td>Insecta</td>\n",
       "      <td>Hymenoptera</td>\n",
       "      <td>Apidae</td>\n",
       "      <td>Anthophora</td>\n",
       "      <td>Anthophora ursina</td>\n",
       "      <td>...</td>\n",
       "      <td>Lincoln R. Best</td>\n",
       "      <td>2020-01-01</td>\n",
       "      <td>CC_BY_NC_4_0</td>\n",
       "      <td>Oregon State University</td>\n",
       "      <td>Lori Humphreys</td>\n",
       "      <td>NaN</td>\n",
       "      <td>NaN</td>\n",
       "      <td>2022-09-08 06:08:11.395</td>\n",
       "      <td>NaN</td>\n",
       "      <td>GEODETIC_DATUM_ASSUMED_WGS84;INSTITUTION_MATCH...</td>\n",
       "    </tr>\n",
       "  </tbody>\n",
       "</table>\n",
       "<p>24679 rows × 50 columns</p>\n",
       "</div>"
      ],
      "text/plain": [
       "           gbifID                            datasetKey  \\\n",
       "0      3499823031  3301620d-6750-434e-97ad-abfac165bb9c   \n",
       "1      3499823030  3301620d-6750-434e-97ad-abfac165bb9c   \n",
       "2      3499823029  3301620d-6750-434e-97ad-abfac165bb9c   \n",
       "3      3499823028  3301620d-6750-434e-97ad-abfac165bb9c   \n",
       "4      3499823027  3301620d-6750-434e-97ad-abfac165bb9c   \n",
       "...           ...                                   ...   \n",
       "24674  3467769400  3301620d-6750-434e-97ad-abfac165bb9c   \n",
       "24675  3467769397  3301620d-6750-434e-97ad-abfac165bb9c   \n",
       "24676  3467769390  3301620d-6750-434e-97ad-abfac165bb9c   \n",
       "24677  3467769385  3301620d-6750-434e-97ad-abfac165bb9c   \n",
       "24678  3467769380  3301620d-6750-434e-97ad-abfac165bb9c   \n",
       "\n",
       "                                          occurrenceID   kingdom      phylum  \\\n",
       "0         https://osac.oregonstate.edu/OBS/OBA_1923053  Animalia  Arthropoda   \n",
       "1         https://osac.oregonstate.edu/OBS/OBA_1913691  Animalia  Arthropoda   \n",
       "2         https://osac.oregonstate.edu/OBS/OBA_1913673  Animalia  Arthropoda   \n",
       "3         https://osac.oregonstate.edu/OBS/OBA_1901618  Animalia  Arthropoda   \n",
       "4         https://osac.oregonstate.edu/OBS/OBA_1923023  Animalia  Arthropoda   \n",
       "...                                                ...       ...         ...   \n",
       "24674  https://osac.oregonstate.edu/SP/OSAC_0001276270  Animalia  Arthropoda   \n",
       "24675  https://osac.oregonstate.edu/SP/OSAC_0001276287  Animalia  Arthropoda   \n",
       "24676  https://osac.oregonstate.edu/SP/OSAC_0001276284  Animalia  Arthropoda   \n",
       "24677  https://osac.oregonstate.edu/SP/OSAC_0001276289  Animalia  Arthropoda   \n",
       "24678  https://osac.oregonstate.edu/SP/OSAC_0001276280  Animalia  Arthropoda   \n",
       "\n",
       "         class        order        family       genus               species  \\\n",
       "0      Insecta  Hymenoptera    Halictidae    Halictus      Halictus ligatus   \n",
       "1      Insecta  Hymenoptera  Megachilidae       Osmia           Osmia densa   \n",
       "2      Insecta  Hymenoptera  Megachilidae   Protosmia  Protosmia rubifloris   \n",
       "3      Insecta  Hymenoptera    Halictidae    Halictus    Halictus farinosus   \n",
       "4      Insecta  Hymenoptera        Apidae  Anthophora     Anthophora urbana   \n",
       "...        ...          ...           ...         ...                   ...   \n",
       "24674  Insecta  Hymenoptera        Apidae  Anthophora  Anthophora bomboides   \n",
       "24675  Insecta  Hymenoptera        Apidae  Anthophora     Anthophora ursina   \n",
       "24676  Insecta  Hymenoptera        Apidae  Anthophora     Anthophora ursina   \n",
       "24677  Insecta  Hymenoptera        Apidae  Anthophora     Anthophora ursina   \n",
       "24678  Insecta  Hymenoptera        Apidae  Anthophora     Anthophora ursina   \n",
       "\n",
       "       ...     identifiedBy dateIdentified       license  \\\n",
       "0      ...  Lincoln R. Best     2020-01-01  CC_BY_NC_4_0   \n",
       "1      ...  Lincoln R. Best     2020-01-01  CC_BY_NC_4_0   \n",
       "2      ...  Lincoln R. Best     2020-01-01  CC_BY_NC_4_0   \n",
       "3      ...  Lincoln R. Best     2020-01-01  CC_BY_NC_4_0   \n",
       "4      ...  Lincoln R. Best     2020-01-01  CC_BY_NC_4_0   \n",
       "...    ...              ...            ...           ...   \n",
       "24674  ...  Lincoln R. Best     2020-01-01  CC_BY_NC_4_0   \n",
       "24675  ...  Lincoln R. Best     2020-01-01  CC_BY_NC_4_0   \n",
       "24676  ...  Lincoln R. Best     2020-01-01  CC_BY_NC_4_0   \n",
       "24677  ...  Lincoln R. Best     2020-01-01  CC_BY_NC_4_0   \n",
       "24678  ...  Lincoln R. Best     2020-01-01  CC_BY_NC_4_0   \n",
       "\n",
       "                  rightsHolder          recordedBy typeStatus  \\\n",
       "0      Oregon State University       Patti Wittrup        NaN   \n",
       "1      Oregon State University      Judith Maxwell        NaN   \n",
       "2      Oregon State University      Judith Maxwell        NaN   \n",
       "3      Oregon State University      Judith Maxwell        NaN   \n",
       "4      Oregon State University      Heike Williams        NaN   \n",
       "...                        ...                 ...        ...   \n",
       "24674  Oregon State University  Michael O'Loughlin        NaN   \n",
       "24675  Oregon State University       Ellen Watrous        NaN   \n",
       "24676  Oregon State University   Gretchen Pederson        NaN   \n",
       "24677  Oregon State University  Michael O'Loughlin        NaN   \n",
       "24678  Oregon State University      Lori Humphreys        NaN   \n",
       "\n",
       "      establishmentMeans         lastInterpreted mediaType  \\\n",
       "0                    NaN 2022-09-08 06:08:17.419       NaN   \n",
       "1                    NaN 2022-09-08 06:08:17.423       NaN   \n",
       "2                    NaN 2022-09-08 06:08:17.421       NaN   \n",
       "3                    NaN 2022-09-08 06:08:17.411       NaN   \n",
       "4                    NaN 2022-09-08 06:08:17.416       NaN   \n",
       "...                  ...                     ...       ...   \n",
       "24674                NaN 2022-09-08 06:08:11.394       NaN   \n",
       "24675                NaN 2022-09-08 06:08:11.396       NaN   \n",
       "24676                NaN 2022-09-08 06:08:11.507       NaN   \n",
       "24677                NaN 2022-09-08 06:08:11.396       NaN   \n",
       "24678                NaN 2022-09-08 06:08:11.395       NaN   \n",
       "\n",
       "                                                   issue  \n",
       "0      GEODETIC_DATUM_ASSUMED_WGS84;INSTITUTION_MATCH...  \n",
       "1      GEODETIC_DATUM_ASSUMED_WGS84;INSTITUTION_MATCH...  \n",
       "2      GEODETIC_DATUM_ASSUMED_WGS84;INSTITUTION_MATCH...  \n",
       "3      GEODETIC_DATUM_ASSUMED_WGS84;INSTITUTION_MATCH...  \n",
       "4      GEODETIC_DATUM_ASSUMED_WGS84;INSTITUTION_MATCH...  \n",
       "...                                                  ...  \n",
       "24674  GEODETIC_DATUM_ASSUMED_WGS84;INSTITUTION_MATCH...  \n",
       "24675  GEODETIC_DATUM_ASSUMED_WGS84;INSTITUTION_MATCH...  \n",
       "24676  GEODETIC_DATUM_ASSUMED_WGS84;INSTITUTION_MATCH...  \n",
       "24677  GEODETIC_DATUM_ASSUMED_WGS84;INSTITUTION_MATCH...  \n",
       "24678  GEODETIC_DATUM_ASSUMED_WGS84;INSTITUTION_MATCH...  \n",
       "\n",
       "[24679 rows x 50 columns]"
      ]
     },
     "execution_count": 188,
     "metadata": {},
     "output_type": "execute_result"
    }
   ],
   "source": [
    "bees2019_df = pd.read_excel(r\"C:\\Users\\noell\\OneDrive\\Documents\\Classes\\CIS277A_DataAnalytics\\277A_Lab5_NoelleLandauer\\GBIF2019.xlsx\")\n",
    "bees2019_df"
   ]
  },
  {
   "cell_type": "markdown",
   "id": "fcb7f1d6-23e3-4f72-8575-3a32fa57ac33",
   "metadata": {},
   "source": [
    "There are 50 columns, so lets take a look at the column headers and number of populated cells in each column:"
   ]
  },
  {
   "cell_type": "code",
   "execution_count": 189,
   "id": "e075adec-a38a-4a19-8c85-06d86cbff070",
   "metadata": {},
   "outputs": [
    {
     "name": "stdout",
     "output_type": "stream",
     "text": [
      "<class 'pandas.core.frame.DataFrame'>\n",
      "RangeIndex: 24679 entries, 0 to 24678\n",
      "Data columns (total 50 columns):\n",
      " #   Column                            Non-Null Count  Dtype         \n",
      "---  ------                            --------------  -----         \n",
      " 0   gbifID                            24679 non-null  int64         \n",
      " 1   datasetKey                        24679 non-null  object        \n",
      " 2   occurrenceID                      24679 non-null  object        \n",
      " 3   kingdom                           24679 non-null  object        \n",
      " 4   phylum                            24679 non-null  object        \n",
      " 5   class                             24679 non-null  object        \n",
      " 6   order                             24679 non-null  object        \n",
      " 7   family                            24679 non-null  object        \n",
      " 8   genus                             24679 non-null  object        \n",
      " 9   species                           14438 non-null  object        \n",
      " 10  infraspecificEpithet              0 non-null      float64       \n",
      " 11  taxonRank                         24679 non-null  object        \n",
      " 12  scientificName                    24679 non-null  object        \n",
      " 13  verbatimScientificName            24679 non-null  object        \n",
      " 14  verbatimScientificNameAuthorship  0 non-null      float64       \n",
      " 15  countryCode                       24679 non-null  object        \n",
      " 16  locality                          24667 non-null  object        \n",
      " 17  stateProvince                     24679 non-null  object        \n",
      " 18  occurrenceStatus                  24679 non-null  object        \n",
      " 19  individualCount                   0 non-null      float64       \n",
      " 20  publishingOrgKey                  24679 non-null  object        \n",
      " 21  decimalLatitude                   24679 non-null  int64         \n",
      " 22  decimalLongitude                  24679 non-null  int64         \n",
      " 23  coordinateUncertaintyInMeters     0 non-null      float64       \n",
      " 24  coordinatePrecision               0 non-null      float64       \n",
      " 25  elevation                         0 non-null      float64       \n",
      " 26  elevationAccuracy                 0 non-null      float64       \n",
      " 27  depth                             0 non-null      float64       \n",
      " 28  depthAccuracy                     0 non-null      float64       \n",
      " 29  eventDate                         24679 non-null  datetime64[ns]\n",
      " 30  day                               24679 non-null  int64         \n",
      " 31  month                             24679 non-null  int64         \n",
      " 32  year                              24679 non-null  int64         \n",
      " 33  taxonKey                          24679 non-null  int64         \n",
      " 34  speciesKey                        14438 non-null  float64       \n",
      " 35  basisOfRecord                     24679 non-null  object        \n",
      " 36  institutionCode                   24679 non-null  object        \n",
      " 37  collectionCode                    24679 non-null  object        \n",
      " 38  catalogNumber                     3035 non-null   object        \n",
      " 39  recordNumber                      0 non-null      float64       \n",
      " 40  identifiedBy                      24679 non-null  object        \n",
      " 41  dateIdentified                    24679 non-null  datetime64[ns]\n",
      " 42  license                           24679 non-null  object        \n",
      " 43  rightsHolder                      24679 non-null  object        \n",
      " 44  recordedBy                        24679 non-null  object        \n",
      " 45  typeStatus                        0 non-null      float64       \n",
      " 46  establishmentMeans                0 non-null      float64       \n",
      " 47  lastInterpreted                   24679 non-null  datetime64[ns]\n",
      " 48  mediaType                         0 non-null      float64       \n",
      " 49  issue                             24679 non-null  object        \n",
      "dtypes: datetime64[ns](3), float64(14), int64(7), object(26)\n",
      "memory usage: 9.4+ MB\n"
     ]
    }
   ],
   "source": [
    "bees2019_df.info(show_counts=True)"
   ]
  },
  {
   "cell_type": "markdown",
   "id": "5ca5fc61-9216-4e4b-b555-dc61d0dcb9b2",
   "metadata": {},
   "source": [
    "Right off, we can take out 13 columns that contain no data. Some of these are GBIF categories that are irrelevant to this dataset, and some (such as the precise GPS coordinates where the bees were found) have been withheld by the researchers in consideration of rare and endangered organisms and ecosystems. In any case, I don't need empty columns, so I'll remove them."
   ]
  },
  {
   "cell_type": "code",
   "execution_count": 190,
   "id": "3dac93f6-b1ae-49f3-a447-1f350e1f667a",
   "metadata": {},
   "outputs": [],
   "source": [
    "bees2019_df.drop(columns=['infraspecificEpithet','verbatimScientificNameAuthorship','individualCount','coordinateUncertaintyInMeters',\n",
    "                          'coordinatePrecision','elevation','elevationAccuracy','depth','depthAccuracy','recordNumber','typeStatus',\n",
    "                          'establishmentMeans','mediaType'], errors='raise', inplace=True)"
   ]
  },
  {
   "cell_type": "markdown",
   "id": "adc3047d-bba6-4331-940c-3ec24e41aaaa",
   "metadata": {},
   "source": [
    "Next let's look at the number of bins in the remaining columns:"
   ]
  },
  {
   "cell_type": "code",
   "execution_count": 191,
   "id": "f2b14321-e27f-4040-bfd4-30acc2d611ed",
   "metadata": {},
   "outputs": [
    {
     "data": {
      "text/plain": [
       "gbifID                    24679\n",
       "datasetKey                    1\n",
       "occurrenceID              24679\n",
       "kingdom                       1\n",
       "phylum                        1\n",
       "class                         1\n",
       "order                         1\n",
       "family                        5\n",
       "genus                        44\n",
       "species                     219\n",
       "taxonRank                     2\n",
       "scientificName              245\n",
       "verbatimScientificName      246\n",
       "countryCode                   1\n",
       "locality                    382\n",
       "stateProvince                 3\n",
       "occurrenceStatus              1\n",
       "publishingOrgKey              1\n",
       "decimalLatitude               6\n",
       "decimalLongitude              9\n",
       "eventDate                   211\n",
       "day                          31\n",
       "month                        10\n",
       "year                          1\n",
       "taxonKey                    245\n",
       "speciesKey                  219\n",
       "basisOfRecord                 1\n",
       "institutionCode               1\n",
       "collectionCode                1\n",
       "catalogNumber              3035\n",
       "identifiedBy                  3\n",
       "dateIdentified                1\n",
       "license                       1\n",
       "rightsHolder                  1\n",
       "recordedBy                  126\n",
       "lastInterpreted            3909\n",
       "issue                         2\n",
       "dtype: int64"
      ]
     },
     "execution_count": 191,
     "metadata": {},
     "output_type": "execute_result"
    }
   ],
   "source": [
    "bees2019_df.nunique()"
   ]
  },
  {
   "cell_type": "markdown",
   "id": "d1989085-4d86-416d-b7b6-500387bd78f0",
   "metadata": {},
   "source": [
    "We also don't need any columns with only one unique value. These are generally columns used to identify the dataset and to join multiple datasets from GBIF. I am only examining this particular set, so these columns are unnecessary."
   ]
  },
  {
   "cell_type": "code",
   "execution_count": 192,
   "id": "9f9069ca-45a5-4892-b3b0-6fa0b46b7cd0",
   "metadata": {},
   "outputs": [],
   "source": [
    "for column in bees2019_df.columns:\n",
    "    if bees2019_df[column].nunique() == 1:\n",
    "        bees2019_df = bees2019_df.drop(column, axis=1)"
   ]
  },
  {
   "cell_type": "markdown",
   "id": "bab3759a-a8a6-441c-be51-19084c7a2101",
   "metadata": {},
   "source": [
    "Now let's look at the unique values of the remaining columns:"
   ]
  },
  {
   "cell_type": "code",
   "execution_count": 193,
   "id": "f731cf62-9c16-42fb-a7bb-fd252e752f20",
   "metadata": {},
   "outputs": [
    {
     "data": {
      "text/plain": [
       "gbifID                    [3499823031, 3499823030, 3499823029, 349982302...\n",
       "occurrenceID              [https://osac.oregonstate.edu/OBS/OBA_1923053,...\n",
       "family                    [Halictidae, Megachilidae, Apidae, Andrenidae,...\n",
       "genus                     [Halictus, Osmia, Protosmia, Anthophora, Bombu...\n",
       "species                   [Halictus ligatus, Osmia densa, Protosmia rubi...\n",
       "taxonRank                                                  [SPECIES, GENUS]\n",
       "scientificName            [Halictus ligatus Say, 1837, Osmia densa Cress...\n",
       "verbatimScientificName    [Halictus ligatus Say, 1837, Osmia densa Cress...\n",
       "locality                  [Corvallis, McKee Bridge, Grants Pass, Redmond...\n",
       "stateProvince                                   [Oregon, California, Idaho]\n",
       "decimalLatitude                                    [45, 42, 44, 46, 43, 47]\n",
       "decimalLongitude          [-123, -124, -121, -119, -122, -120, -117, -11...\n",
       "eventDate                 [2019-08-24T00:00:00.000000000, 2019-05-29T00:...\n",
       "day                       [24, 29, 26, 5, 1, 17, 25, 31, 3, 30, 28, 18, ...\n",
       "month                                     [8, 5, 4, 9, 6, 3, 7, 10, 12, 11]\n",
       "taxonKey                  [1353451, 5039146, 1334783, 1353425, 5040435, ...\n",
       "speciesKey                [1353451.0, 5039146.0, 1334783.0, 1353425.0, 5...\n",
       "catalogNumber             [nan, OSAC_0001277478, OSAC_0001277476, OSAC_0...\n",
       "identifiedBy              [Lincoln R. Best, Joe D. Engler, Briana C. Lindh]\n",
       "recordedBy                [Patti Wittrup, Judith Maxwell, Heike Williams...\n",
       "lastInterpreted           [2022-09-08T06:08:17.419000000, 2022-09-08T06:...\n",
       "issue                     [GEODETIC_DATUM_ASSUMED_WGS84;INSTITUTION_MATC...\n",
       "dtype: object"
      ]
     },
     "execution_count": 193,
     "metadata": {},
     "output_type": "execute_result"
    }
   ],
   "source": [
    "bees2019_df.apply(pd.unique)"
   ]
  },
  {
   "cell_type": "markdown",
   "id": "56e35784-fa4b-4e77-a994-5ab6684809f2",
   "metadata": {},
   "source": [
    "Based on this, I want to keep the taxon information, geographic information, and date-related data. I also want to add in the plant association data and sex determinations from the researchers at a future point, so I will need the Oregon Bee Atlas number (embedded in occurenceID) for each bee in order to join the datasets."
   ]
  },
  {
   "cell_type": "code",
   "execution_count": 194,
   "id": "8b2f933f-405e-4f07-bf39-be4f93e97c01",
   "metadata": {},
   "outputs": [],
   "source": [
    "bees2019_df.drop(columns=['gbifID','scientificName','verbatimScientificName','taxonKey','speciesKey','identifiedBy','recordedBy',\n",
    "                          'lastInterpreted','catalogNumber','issue'], errors='raise', inplace=True)"
   ]
  },
  {
   "cell_type": "code",
   "execution_count": 195,
   "id": "69e16b85-1e82-46e1-baa0-b64dbf0cd3d5",
   "metadata": {},
   "outputs": [
    {
     "data": {
      "text/plain": [
       "occurrenceID        24679\n",
       "family                  5\n",
       "genus                  44\n",
       "species               219\n",
       "taxonRank               2\n",
       "locality              382\n",
       "stateProvince           3\n",
       "decimalLatitude         6\n",
       "decimalLongitude        9\n",
       "eventDate             211\n",
       "day                    31\n",
       "month                  10\n",
       "dtype: int64"
      ]
     },
     "execution_count": 195,
     "metadata": {},
     "output_type": "execute_result"
    }
   ],
   "source": [
    "bees2019_df.nunique()"
   ]
  },
  {
   "cell_type": "markdown",
   "id": "32f69622-d9a4-4650-b1ab-a56ae62b596f",
   "metadata": {},
   "source": [
    "Now let's check for duplicate records. We want every row to represent a unique bee specimen."
   ]
  },
  {
   "cell_type": "code",
   "execution_count": 196,
   "id": "4a42bcec-0d8d-4cf7-a946-0dbd6d65bfb0",
   "metadata": {},
   "outputs": [
    {
     "data": {
      "text/html": [
       "<div>\n",
       "<style scoped>\n",
       "    .dataframe tbody tr th:only-of-type {\n",
       "        vertical-align: middle;\n",
       "    }\n",
       "\n",
       "    .dataframe tbody tr th {\n",
       "        vertical-align: top;\n",
       "    }\n",
       "\n",
       "    .dataframe thead th {\n",
       "        text-align: right;\n",
       "    }\n",
       "</style>\n",
       "<table border=\"1\" class=\"dataframe\">\n",
       "  <thead>\n",
       "    <tr style=\"text-align: right;\">\n",
       "      <th></th>\n",
       "      <th>occurrenceID</th>\n",
       "      <th>family</th>\n",
       "      <th>genus</th>\n",
       "      <th>species</th>\n",
       "      <th>taxonRank</th>\n",
       "      <th>locality</th>\n",
       "      <th>stateProvince</th>\n",
       "      <th>decimalLatitude</th>\n",
       "      <th>decimalLongitude</th>\n",
       "      <th>eventDate</th>\n",
       "      <th>day</th>\n",
       "      <th>month</th>\n",
       "    </tr>\n",
       "  </thead>\n",
       "  <tbody>\n",
       "  </tbody>\n",
       "</table>\n",
       "</div>"
      ],
      "text/plain": [
       "Empty DataFrame\n",
       "Columns: [occurrenceID, family, genus, species, taxonRank, locality, stateProvince, decimalLatitude, decimalLongitude, eventDate, day, month]\n",
       "Index: []"
      ]
     },
     "execution_count": 196,
     "metadata": {},
     "output_type": "execute_result"
    }
   ],
   "source": [
    "bees2019_df[bees2019_df.duplicated(keep=False)]"
   ]
  },
  {
   "cell_type": "markdown",
   "id": "22ad6207-5086-4109-85a0-3bdb5bf2d17c",
   "metadata": {},
   "source": [
    "There are no duplicate rows. Now let's check for missing data. The species column has many NaN rows (due to the fact that not every bee could be identified to a currently known species - newly discovered species still need to be described), but the rest of the columns should have complete data."
   ]
  },
  {
   "cell_type": "code",
   "execution_count": 197,
   "id": "fff7f6fb-b76f-4b0f-be90-b6de1619d184",
   "metadata": {},
   "outputs": [
    {
     "name": "stdout",
     "output_type": "stream",
     "text": [
      "occurrenceID            0\n",
      "family                  0\n",
      "genus                   0\n",
      "species             10241\n",
      "taxonRank               0\n",
      "locality               12\n",
      "stateProvince           0\n",
      "decimalLatitude         0\n",
      "decimalLongitude        0\n",
      "eventDate               0\n",
      "day                     0\n",
      "month                   0\n",
      "dtype: int64\n"
     ]
    }
   ],
   "source": [
    "missing_count = bees2019_df.shape[0] - bees2019_df.count()\n",
    "print(missing_count)"
   ]
  },
  {
   "cell_type": "markdown",
   "id": "ca71d13f-29e4-4616-985f-39f2c4eac8a8",
   "metadata": {},
   "source": [
    "The locality column has a few missing data points. Since the \"locality\" is the nearest town, the few missing points were probably bees captured very far from a relevant locality. Many of the bees found in more obscure locations are interesting, so I'll keep the few missing values, but may keep it in mind and exclude them from an analysis by locality instead of GPS coordinates."
   ]
  },
  {
   "cell_type": "markdown",
   "id": "a4abf852-3581-4a05-bea9-8cfe6aeba013",
   "metadata": {},
   "source": [
    "There were also a few bees accidentally captured across the state borders in California and Idaho. How many?"
   ]
  },
  {
   "cell_type": "code",
   "execution_count": 198,
   "id": "890142cc-b856-4078-8c2f-3d45ddbfd5a3",
   "metadata": {},
   "outputs": [
    {
     "data": {
      "text/plain": [
       "Oregon        24548\n",
       "Idaho           105\n",
       "California       26\n",
       "Name: stateProvince, dtype: int64"
      ]
     },
     "execution_count": 198,
     "metadata": {},
     "output_type": "execute_result"
    }
   ],
   "source": [
    "bees2019_df.stateProvince.value_counts()"
   ]
  },
  {
   "cell_type": "markdown",
   "id": "f78d9da6-15fd-4dae-aeac-990098f1ab32",
   "metadata": {},
   "source": [
    "I don't have the detailed GPS coordinates to confirm that these bees were \"close enough for flying creatures that don't respect borders,\" but this is likely the case if they were kept in the data set by the researchers. However, for the purposes of this lab, we'll drop those rows and retain only those bees truely located in Oregon. Then we'll drop the column."
   ]
  },
  {
   "cell_type": "code",
   "execution_count": 199,
   "id": "df94df52-4afc-485c-ad1a-e4b873b0d533",
   "metadata": {},
   "outputs": [],
   "source": [
    "bees2019_df.stateProvince = bees2019_df.stateProvince.astype('category')\n",
    "bees2019_df = bees2019_df.query(\"stateProvince == 'Oregon'\")\n",
    "bees2019_df.drop(columns=['stateProvince'], inplace=True)"
   ]
  },
  {
   "cell_type": "markdown",
   "id": "d86c27e2-9094-4536-85b7-d37c132df5fc",
   "metadata": {
    "tags": []
   },
   "source": [
    "Next let's look at the datatypes of the remaining columns."
   ]
  },
  {
   "cell_type": "code",
   "execution_count": 200,
   "id": "9513ddb2-5a94-45a5-8bdf-d8bd3cca36b8",
   "metadata": {},
   "outputs": [
    {
     "name": "stdout",
     "output_type": "stream",
     "text": [
      "<class 'pandas.core.frame.DataFrame'>\n",
      "Int64Index: 24548 entries, 0 to 24678\n",
      "Data columns (total 11 columns):\n",
      " #   Column            Non-Null Count  Dtype         \n",
      "---  ------            --------------  -----         \n",
      " 0   occurrenceID      24548 non-null  object        \n",
      " 1   family            24548 non-null  object        \n",
      " 2   genus             24548 non-null  object        \n",
      " 3   species           14363 non-null  object        \n",
      " 4   taxonRank         24548 non-null  object        \n",
      " 5   locality          24536 non-null  object        \n",
      " 6   decimalLatitude   24548 non-null  int64         \n",
      " 7   decimalLongitude  24548 non-null  int64         \n",
      " 8   eventDate         24548 non-null  datetime64[ns]\n",
      " 9   day               24548 non-null  int64         \n",
      " 10  month             24548 non-null  int64         \n",
      "dtypes: datetime64[ns](1), int64(4), object(6)\n",
      "memory usage: 2.2+ MB\n"
     ]
    }
   ],
   "source": [
    "bees2019_df.info()"
   ]
  },
  {
   "cell_type": "markdown",
   "id": "6400147d-ef1d-4ef7-8ca2-a55fbf2857f7",
   "metadata": {},
   "source": [
    "I'm going to set taxonRank as a category. It's essentially Boolean, since there are only two groups (genus or species), but the categories are easier to understand."
   ]
  },
  {
   "cell_type": "code",
   "execution_count": 201,
   "id": "042c4f35-d717-46bb-8db5-2b7f42021dbf",
   "metadata": {},
   "outputs": [],
   "source": [
    "bees2019_df['taxonRank'] = bees2019_df['taxonRank'].astype('category')"
   ]
  },
  {
   "cell_type": "markdown",
   "id": "52f539ba-8644-4bf8-ac71-5373e9d51714",
   "metadata": {},
   "source": [
    "Check that worked..."
   ]
  },
  {
   "cell_type": "code",
   "execution_count": 202,
   "id": "adb6bfb7-3d70-4127-8b04-bf088fc882e4",
   "metadata": {},
   "outputs": [
    {
     "name": "stdout",
     "output_type": "stream",
     "text": [
      "<class 'pandas.core.frame.DataFrame'>\n",
      "Int64Index: 24548 entries, 0 to 24678\n",
      "Data columns (total 11 columns):\n",
      " #   Column            Non-Null Count  Dtype         \n",
      "---  ------            --------------  -----         \n",
      " 0   occurrenceID      24548 non-null  object        \n",
      " 1   family            24548 non-null  object        \n",
      " 2   genus             24548 non-null  object        \n",
      " 3   species           14363 non-null  object        \n",
      " 4   taxonRank         24548 non-null  category      \n",
      " 5   locality          24536 non-null  object        \n",
      " 6   decimalLatitude   24548 non-null  int64         \n",
      " 7   decimalLongitude  24548 non-null  int64         \n",
      " 8   eventDate         24548 non-null  datetime64[ns]\n",
      " 9   day               24548 non-null  int64         \n",
      " 10  month             24548 non-null  int64         \n",
      "dtypes: category(1), datetime64[ns](1), int64(4), object(5)\n",
      "memory usage: 2.1+ MB\n"
     ]
    }
   ],
   "source": [
    "bees2019_df.info()"
   ]
  },
  {
   "cell_type": "markdown",
   "id": "5749c4ca-aa42-43d9-a984-bbbb44950330",
   "metadata": {},
   "source": []
  },
  {
   "cell_type": "raw",
   "id": "bd0ff439-8c59-4d33-bf7a-f75649325f95",
   "metadata": {},
   "source": [
    "Finally, double check the first & last few rows of data:"
   ]
  },
  {
   "cell_type": "code",
   "execution_count": 203,
   "id": "b10ec92c-a375-4932-ac51-e20153d27561",
   "metadata": {},
   "outputs": [
    {
     "data": {
      "text/html": [
       "<div>\n",
       "<style scoped>\n",
       "    .dataframe tbody tr th:only-of-type {\n",
       "        vertical-align: middle;\n",
       "    }\n",
       "\n",
       "    .dataframe tbody tr th {\n",
       "        vertical-align: top;\n",
       "    }\n",
       "\n",
       "    .dataframe thead th {\n",
       "        text-align: right;\n",
       "    }\n",
       "</style>\n",
       "<table border=\"1\" class=\"dataframe\">\n",
       "  <thead>\n",
       "    <tr style=\"text-align: right;\">\n",
       "      <th></th>\n",
       "      <th>occurrenceID</th>\n",
       "      <th>family</th>\n",
       "      <th>genus</th>\n",
       "      <th>species</th>\n",
       "      <th>taxonRank</th>\n",
       "      <th>locality</th>\n",
       "      <th>decimalLatitude</th>\n",
       "      <th>decimalLongitude</th>\n",
       "      <th>eventDate</th>\n",
       "      <th>day</th>\n",
       "      <th>month</th>\n",
       "    </tr>\n",
       "  </thead>\n",
       "  <tbody>\n",
       "    <tr>\n",
       "      <th>0</th>\n",
       "      <td>https://osac.oregonstate.edu/OBS/OBA_1923053</td>\n",
       "      <td>Halictidae</td>\n",
       "      <td>Halictus</td>\n",
       "      <td>Halictus ligatus</td>\n",
       "      <td>SPECIES</td>\n",
       "      <td>Corvallis</td>\n",
       "      <td>45</td>\n",
       "      <td>-123</td>\n",
       "      <td>2019-08-24</td>\n",
       "      <td>24</td>\n",
       "      <td>8</td>\n",
       "    </tr>\n",
       "    <tr>\n",
       "      <th>1</th>\n",
       "      <td>https://osac.oregonstate.edu/OBS/OBA_1913691</td>\n",
       "      <td>Megachilidae</td>\n",
       "      <td>Osmia</td>\n",
       "      <td>Osmia densa</td>\n",
       "      <td>SPECIES</td>\n",
       "      <td>McKee Bridge</td>\n",
       "      <td>42</td>\n",
       "      <td>-123</td>\n",
       "      <td>2019-05-29</td>\n",
       "      <td>29</td>\n",
       "      <td>5</td>\n",
       "    </tr>\n",
       "    <tr>\n",
       "      <th>2</th>\n",
       "      <td>https://osac.oregonstate.edu/OBS/OBA_1913673</td>\n",
       "      <td>Megachilidae</td>\n",
       "      <td>Protosmia</td>\n",
       "      <td>Protosmia rubifloris</td>\n",
       "      <td>SPECIES</td>\n",
       "      <td>McKee Bridge</td>\n",
       "      <td>42</td>\n",
       "      <td>-123</td>\n",
       "      <td>2019-05-29</td>\n",
       "      <td>29</td>\n",
       "      <td>5</td>\n",
       "    </tr>\n",
       "    <tr>\n",
       "      <th>3</th>\n",
       "      <td>https://osac.oregonstate.edu/OBS/OBA_1901618</td>\n",
       "      <td>Halictidae</td>\n",
       "      <td>Halictus</td>\n",
       "      <td>Halictus farinosus</td>\n",
       "      <td>SPECIES</td>\n",
       "      <td>Grants Pass</td>\n",
       "      <td>42</td>\n",
       "      <td>-124</td>\n",
       "      <td>2019-04-26</td>\n",
       "      <td>26</td>\n",
       "      <td>4</td>\n",
       "    </tr>\n",
       "    <tr>\n",
       "      <th>4</th>\n",
       "      <td>https://osac.oregonstate.edu/OBS/OBA_1923023</td>\n",
       "      <td>Apidae</td>\n",
       "      <td>Anthophora</td>\n",
       "      <td>Anthophora urbana</td>\n",
       "      <td>SPECIES</td>\n",
       "      <td>Redmond</td>\n",
       "      <td>44</td>\n",
       "      <td>-121</td>\n",
       "      <td>2019-09-05</td>\n",
       "      <td>5</td>\n",
       "      <td>9</td>\n",
       "    </tr>\n",
       "    <tr>\n",
       "      <th>...</th>\n",
       "      <td>...</td>\n",
       "      <td>...</td>\n",
       "      <td>...</td>\n",
       "      <td>...</td>\n",
       "      <td>...</td>\n",
       "      <td>...</td>\n",
       "      <td>...</td>\n",
       "      <td>...</td>\n",
       "      <td>...</td>\n",
       "      <td>...</td>\n",
       "      <td>...</td>\n",
       "    </tr>\n",
       "    <tr>\n",
       "      <th>24674</th>\n",
       "      <td>https://osac.oregonstate.edu/SP/OSAC_0001276270</td>\n",
       "      <td>Apidae</td>\n",
       "      <td>Anthophora</td>\n",
       "      <td>Anthophora bomboides</td>\n",
       "      <td>SPECIES</td>\n",
       "      <td>Dayville</td>\n",
       "      <td>45</td>\n",
       "      <td>-119</td>\n",
       "      <td>2019-06-20</td>\n",
       "      <td>20</td>\n",
       "      <td>6</td>\n",
       "    </tr>\n",
       "    <tr>\n",
       "      <th>24675</th>\n",
       "      <td>https://osac.oregonstate.edu/SP/OSAC_0001276287</td>\n",
       "      <td>Apidae</td>\n",
       "      <td>Anthophora</td>\n",
       "      <td>Anthophora ursina</td>\n",
       "      <td>SPECIES</td>\n",
       "      <td>Seneca</td>\n",
       "      <td>44</td>\n",
       "      <td>-119</td>\n",
       "      <td>2019-06-22</td>\n",
       "      <td>22</td>\n",
       "      <td>6</td>\n",
       "    </tr>\n",
       "    <tr>\n",
       "      <th>24676</th>\n",
       "      <td>https://osac.oregonstate.edu/SP/OSAC_0001276284</td>\n",
       "      <td>Apidae</td>\n",
       "      <td>Anthophora</td>\n",
       "      <td>Anthophora ursina</td>\n",
       "      <td>SPECIES</td>\n",
       "      <td>Copperfield</td>\n",
       "      <td>45</td>\n",
       "      <td>-117</td>\n",
       "      <td>2019-06-11</td>\n",
       "      <td>11</td>\n",
       "      <td>6</td>\n",
       "    </tr>\n",
       "    <tr>\n",
       "      <th>24677</th>\n",
       "      <td>https://osac.oregonstate.edu/SP/OSAC_0001276289</td>\n",
       "      <td>Apidae</td>\n",
       "      <td>Anthophora</td>\n",
       "      <td>Anthophora ursina</td>\n",
       "      <td>SPECIES</td>\n",
       "      <td>Joseph</td>\n",
       "      <td>45</td>\n",
       "      <td>-117</td>\n",
       "      <td>2019-06-19</td>\n",
       "      <td>19</td>\n",
       "      <td>6</td>\n",
       "    </tr>\n",
       "    <tr>\n",
       "      <th>24678</th>\n",
       "      <td>https://osac.oregonstate.edu/SP/OSAC_0001276280</td>\n",
       "      <td>Apidae</td>\n",
       "      <td>Anthophora</td>\n",
       "      <td>Anthophora ursina</td>\n",
       "      <td>SPECIES</td>\n",
       "      <td>Elgin</td>\n",
       "      <td>46</td>\n",
       "      <td>-118</td>\n",
       "      <td>2019-06-15</td>\n",
       "      <td>15</td>\n",
       "      <td>6</td>\n",
       "    </tr>\n",
       "  </tbody>\n",
       "</table>\n",
       "<p>24548 rows × 11 columns</p>\n",
       "</div>"
      ],
      "text/plain": [
       "                                          occurrenceID        family  \\\n",
       "0         https://osac.oregonstate.edu/OBS/OBA_1923053    Halictidae   \n",
       "1         https://osac.oregonstate.edu/OBS/OBA_1913691  Megachilidae   \n",
       "2         https://osac.oregonstate.edu/OBS/OBA_1913673  Megachilidae   \n",
       "3         https://osac.oregonstate.edu/OBS/OBA_1901618    Halictidae   \n",
       "4         https://osac.oregonstate.edu/OBS/OBA_1923023        Apidae   \n",
       "...                                                ...           ...   \n",
       "24674  https://osac.oregonstate.edu/SP/OSAC_0001276270        Apidae   \n",
       "24675  https://osac.oregonstate.edu/SP/OSAC_0001276287        Apidae   \n",
       "24676  https://osac.oregonstate.edu/SP/OSAC_0001276284        Apidae   \n",
       "24677  https://osac.oregonstate.edu/SP/OSAC_0001276289        Apidae   \n",
       "24678  https://osac.oregonstate.edu/SP/OSAC_0001276280        Apidae   \n",
       "\n",
       "            genus               species taxonRank      locality  \\\n",
       "0        Halictus      Halictus ligatus   SPECIES     Corvallis   \n",
       "1           Osmia           Osmia densa   SPECIES  McKee Bridge   \n",
       "2       Protosmia  Protosmia rubifloris   SPECIES  McKee Bridge   \n",
       "3        Halictus    Halictus farinosus   SPECIES   Grants Pass   \n",
       "4      Anthophora     Anthophora urbana   SPECIES       Redmond   \n",
       "...           ...                   ...       ...           ...   \n",
       "24674  Anthophora  Anthophora bomboides   SPECIES      Dayville   \n",
       "24675  Anthophora     Anthophora ursina   SPECIES        Seneca   \n",
       "24676  Anthophora     Anthophora ursina   SPECIES   Copperfield   \n",
       "24677  Anthophora     Anthophora ursina   SPECIES        Joseph   \n",
       "24678  Anthophora     Anthophora ursina   SPECIES         Elgin   \n",
       "\n",
       "       decimalLatitude  decimalLongitude  eventDate  day  month  \n",
       "0                   45              -123 2019-08-24   24      8  \n",
       "1                   42              -123 2019-05-29   29      5  \n",
       "2                   42              -123 2019-05-29   29      5  \n",
       "3                   42              -124 2019-04-26   26      4  \n",
       "4                   44              -121 2019-09-05    5      9  \n",
       "...                ...               ...        ...  ...    ...  \n",
       "24674               45              -119 2019-06-20   20      6  \n",
       "24675               44              -119 2019-06-22   22      6  \n",
       "24676               45              -117 2019-06-11   11      6  \n",
       "24677               45              -117 2019-06-19   19      6  \n",
       "24678               46              -118 2019-06-15   15      6  \n",
       "\n",
       "[24548 rows x 11 columns]"
      ]
     },
     "execution_count": 203,
     "metadata": {},
     "output_type": "execute_result"
    }
   ],
   "source": [
    "bees2019_df"
   ]
  },
  {
   "cell_type": "markdown",
   "id": "e455527f-703d-400d-8af4-83f0af9c170a",
   "metadata": {},
   "source": [
    "Science Fiction Television Series Ratings Over Time"
   ]
  },
  {
   "cell_type": "markdown",
   "id": "fb45775a-979c-4946-b1db-195fbcfb3d0f",
   "metadata": {},
   "source": [
    "Connection object for cisdbss.pcc.edu database:"
   ]
  },
  {
   "cell_type": "code",
   "execution_count": 204,
   "id": "82fb3c40-5747-46ca-baa8-a81bab005a8b",
   "metadata": {},
   "outputs": [
    {
     "data": {
      "text/plain": [
       "<pyodbc.Connection at 0x250b85a3c60>"
      ]
     },
     "execution_count": 204,
     "metadata": {},
     "output_type": "execute_result"
    }
   ],
   "source": [
    "connection = pyodbc.connect(\n",
    "    server=\"scrubbed.pcc.edu\",\n",
    "    user=\"username\",\n",
    "    password=\"password\",\n",
    "    database=\"IMDB\",\n",
    "    driver=\"{ODBC Driver 17 for SQL Server}\")\n",
    "\n",
    "connection"
   ]
  },
  {
   "cell_type": "markdown",
   "id": "3fc89423-fdf3-497a-bd27-ca1fcbdeaba7",
   "metadata": {},
   "source": [
    "SQL query to retrieve all science fiction television series from the IMDB database, along with ratings:"
   ]
  },
  {
   "cell_type": "code",
   "execution_count": 205,
   "id": "5b0f2b10-2272-40ad-8aba-aacbdaca33a6",
   "metadata": {},
   "outputs": [],
   "source": [
    "sql = '''SELECT *\n",
    "FROM title_basics AS tb\n",
    "JOIN title_genre AS tg ON tb.tconst = tg.tconst\n",
    "JOIN title_ratings AS tr ON tb.tconst = tr.tconst\n",
    "WHERE tg.genre = 'Sci-Fi'\n",
    "AND tb.titleType = 'tvSeries'\n",
    "ORDER BY tb.startYear;'''"
   ]
  },
  {
   "cell_type": "markdown",
   "id": "e81ef83d-46ae-4a8f-9dff-2e22bd5569d7",
   "metadata": {},
   "source": [
    "Query database to retrieve information and dump it in a Pandas Dataframe:"
   ]
  },
  {
   "cell_type": "code",
   "execution_count": 206,
   "id": "3f0b0e0e-e6a1-4d80-83b3-b05c4ce337df",
   "metadata": {},
   "outputs": [
    {
     "name": "stderr",
     "output_type": "stream",
     "text": [
      "C:\\Users\\noell\\anaconda3\\lib\\site-packages\\pandas\\io\\sql.py:762: UserWarning: pandas only support SQLAlchemy connectable(engine/connection) ordatabase string URI or sqlite3 DBAPI2 connectionother DBAPI2 objects are not tested, please consider using SQLAlchemy\n",
      "  warnings.warn(\n"
     ]
    }
   ],
   "source": [
    "sftv_df = pd.read_sql_query(sql, connection)"
   ]
  },
  {
   "cell_type": "markdown",
   "id": "b52e1b00-d1a5-43f3-9d5c-1365c13e79ce",
   "metadata": {},
   "source": [
    "Let's take a look at what we got:"
   ]
  },
  {
   "cell_type": "code",
   "execution_count": 207,
   "id": "80d15116-33b8-4f09-8454-b7443b81aded",
   "metadata": {},
   "outputs": [
    {
     "data": {
      "text/html": [
       "<div>\n",
       "<style scoped>\n",
       "    .dataframe tbody tr th:only-of-type {\n",
       "        vertical-align: middle;\n",
       "    }\n",
       "\n",
       "    .dataframe tbody tr th {\n",
       "        vertical-align: top;\n",
       "    }\n",
       "\n",
       "    .dataframe thead th {\n",
       "        text-align: right;\n",
       "    }\n",
       "</style>\n",
       "<table border=\"1\" class=\"dataframe\">\n",
       "  <thead>\n",
       "    <tr style=\"text-align: right;\">\n",
       "      <th></th>\n",
       "      <th>tconst</th>\n",
       "      <th>titleType</th>\n",
       "      <th>primaryTitle</th>\n",
       "      <th>originalTitle</th>\n",
       "      <th>isAdult</th>\n",
       "      <th>startYear</th>\n",
       "      <th>endYear</th>\n",
       "      <th>runtimeMinutes</th>\n",
       "      <th>tconst</th>\n",
       "      <th>genre</th>\n",
       "      <th>tconst</th>\n",
       "      <th>averageRating</th>\n",
       "      <th>numVotes</th>\n",
       "    </tr>\n",
       "  </thead>\n",
       "  <tbody>\n",
       "    <tr>\n",
       "      <th>0</th>\n",
       "      <td>tt6280432</td>\n",
       "      <td>tvSeries</td>\n",
       "      <td>Casper the Friendly Ghost</td>\n",
       "      <td>Casper the Friendly Ghost</td>\n",
       "      <td>False</td>\n",
       "      <td>1945</td>\n",
       "      <td>NaN</td>\n",
       "      <td>7.0</td>\n",
       "      <td>tt6280432</td>\n",
       "      <td>Sci-Fi</td>\n",
       "      <td>tt6280432</td>\n",
       "      <td>8.8</td>\n",
       "      <td>9</td>\n",
       "    </tr>\n",
       "    <tr>\n",
       "      <th>1</th>\n",
       "      <td>tt0041037</td>\n",
       "      <td>tvSeries</td>\n",
       "      <td>Lights Out</td>\n",
       "      <td>Lights Out</td>\n",
       "      <td>False</td>\n",
       "      <td>1946</td>\n",
       "      <td>1952.0</td>\n",
       "      <td>30.0</td>\n",
       "      <td>tt0041037</td>\n",
       "      <td>Sci-Fi</td>\n",
       "      <td>tt0041037</td>\n",
       "      <td>7.6</td>\n",
       "      <td>97</td>\n",
       "    </tr>\n",
       "    <tr>\n",
       "      <th>2</th>\n",
       "      <td>tt0043234</td>\n",
       "      <td>tvSeries</td>\n",
       "      <td>Space Patrol</td>\n",
       "      <td>Space Patrol</td>\n",
       "      <td>False</td>\n",
       "      <td>1950</td>\n",
       "      <td>1955.0</td>\n",
       "      <td>30.0</td>\n",
       "      <td>tt0043234</td>\n",
       "      <td>Sci-Fi</td>\n",
       "      <td>tt0043234</td>\n",
       "      <td>7.6</td>\n",
       "      <td>74</td>\n",
       "    </tr>\n",
       "    <tr>\n",
       "      <th>3</th>\n",
       "      <td>tt0313041</td>\n",
       "      <td>tvSeries</td>\n",
       "      <td>Buck Rogers</td>\n",
       "      <td>Buck Rogers</td>\n",
       "      <td>False</td>\n",
       "      <td>1950</td>\n",
       "      <td>NaN</td>\n",
       "      <td>30.0</td>\n",
       "      <td>tt0313041</td>\n",
       "      <td>Sci-Fi</td>\n",
       "      <td>tt0313041</td>\n",
       "      <td>6.9</td>\n",
       "      <td>34</td>\n",
       "    </tr>\n",
       "    <tr>\n",
       "      <th>4</th>\n",
       "      <td>tt0451557</td>\n",
       "      <td>tvSeries</td>\n",
       "      <td>Out There</td>\n",
       "      <td>Out There</td>\n",
       "      <td>False</td>\n",
       "      <td>1951</td>\n",
       "      <td>1952.0</td>\n",
       "      <td>30.0</td>\n",
       "      <td>tt0451557</td>\n",
       "      <td>Sci-Fi</td>\n",
       "      <td>tt0451557</td>\n",
       "      <td>6.6</td>\n",
       "      <td>10</td>\n",
       "    </tr>\n",
       "  </tbody>\n",
       "</table>\n",
       "</div>"
      ],
      "text/plain": [
       "      tconst     titleType               primaryTitle  \\\n",
       "0  tt6280432  tvSeries      Casper the Friendly Ghost   \n",
       "1  tt0041037  tvSeries                     Lights Out   \n",
       "2  tt0043234  tvSeries                   Space Patrol   \n",
       "3  tt0313041  tvSeries                    Buck Rogers   \n",
       "4  tt0451557  tvSeries                      Out There   \n",
       "\n",
       "               originalTitle  isAdult  startYear  endYear  runtimeMinutes  \\\n",
       "0  Casper the Friendly Ghost    False       1945      NaN             7.0   \n",
       "1                 Lights Out    False       1946   1952.0            30.0   \n",
       "2               Space Patrol    False       1950   1955.0            30.0   \n",
       "3                Buck Rogers    False       1950      NaN            30.0   \n",
       "4                  Out There    False       1951   1952.0            30.0   \n",
       "\n",
       "      tconst   genre     tconst  averageRating  numVotes  \n",
       "0  tt6280432  Sci-Fi  tt6280432            8.8         9  \n",
       "1  tt0041037  Sci-Fi  tt0041037            7.6        97  \n",
       "2  tt0043234  Sci-Fi  tt0043234            7.6        74  \n",
       "3  tt0313041  Sci-Fi  tt0313041            6.9        34  \n",
       "4  tt0451557  Sci-Fi  tt0451557            6.6        10  "
      ]
     },
     "execution_count": 207,
     "metadata": {},
     "output_type": "execute_result"
    }
   ],
   "source": [
    "sftv_df.head()"
   ]
  },
  {
   "cell_type": "markdown",
   "id": "6ba4cb92-49f6-4fc9-884a-52cb18d40a01",
   "metadata": {},
   "source": [
    "There's a tconst column for each table joined in the query; we need none of these. titleType and genre will obviously only contain one unique value each, as I specified them in the SQL query. Also there is no obvious significant difference between primaryTitle and originalTitle, so I'm only going to keep primaryTitle."
   ]
  },
  {
   "cell_type": "code",
   "execution_count": 208,
   "id": "9907b90c-c76d-452e-ab56-06743cde7da8",
   "metadata": {},
   "outputs": [],
   "source": [
    "sftv_df.drop(columns=['tconst','titleType','originalTitle','tconst','genre','tconst'],errors='raise',inplace=True)"
   ]
  },
  {
   "cell_type": "markdown",
   "id": "d9c8742c-6f17-4ba6-ae07-ba93acedb5bc",
   "metadata": {},
   "source": [
    "Now let's take a look at missing values in the remaining columns:"
   ]
  },
  {
   "cell_type": "code",
   "execution_count": 209,
   "id": "466eaf9c-ab0e-4330-8ee3-6cf10099adac",
   "metadata": {},
   "outputs": [
    {
     "name": "stdout",
     "output_type": "stream",
     "text": [
      "primaryTitle        0\n",
      "isAdult             0\n",
      "startYear           0\n",
      "endYear           880\n",
      "runtimeMinutes    476\n",
      "averageRating       0\n",
      "numVotes            0\n",
      "dtype: int64\n"
     ]
    }
   ],
   "source": [
    "missing_sftv = sftv_df.shape[0] - sftv_df.count()\n",
    "print(missing_sftv)"
   ]
  },
  {
   "cell_type": "markdown",
   "id": "b4ca4d41-5949-4d91-87da-5db4843544b9",
   "metadata": {},
   "source": [
    "endYear and averageRating both have many missing values. endYear likely is NaN when the show only lasted a single year. If we want to calculate the number of years a show ran, we'll need to replace the null values with the same year as startYear."
   ]
  },
  {
   "cell_type": "code",
   "execution_count": 210,
   "id": "c9c4855f-bdaf-461f-ad62-862348257549",
   "metadata": {},
   "outputs": [
    {
     "data": {
      "text/html": [
       "<div>\n",
       "<style scoped>\n",
       "    .dataframe tbody tr th:only-of-type {\n",
       "        vertical-align: middle;\n",
       "    }\n",
       "\n",
       "    .dataframe tbody tr th {\n",
       "        vertical-align: top;\n",
       "    }\n",
       "\n",
       "    .dataframe thead th {\n",
       "        text-align: right;\n",
       "    }\n",
       "</style>\n",
       "<table border=\"1\" class=\"dataframe\">\n",
       "  <thead>\n",
       "    <tr style=\"text-align: right;\">\n",
       "      <th></th>\n",
       "      <th>primaryTitle</th>\n",
       "      <th>isAdult</th>\n",
       "      <th>startYear</th>\n",
       "      <th>endYear</th>\n",
       "      <th>runtimeMinutes</th>\n",
       "      <th>averageRating</th>\n",
       "      <th>numVotes</th>\n",
       "    </tr>\n",
       "  </thead>\n",
       "  <tbody>\n",
       "    <tr>\n",
       "      <th>0</th>\n",
       "      <td>Casper the Friendly Ghost</td>\n",
       "      <td>False</td>\n",
       "      <td>1945</td>\n",
       "      <td>1945.0</td>\n",
       "      <td>7.0</td>\n",
       "      <td>8.8</td>\n",
       "      <td>9</td>\n",
       "    </tr>\n",
       "    <tr>\n",
       "      <th>1</th>\n",
       "      <td>Lights Out</td>\n",
       "      <td>False</td>\n",
       "      <td>1946</td>\n",
       "      <td>1952.0</td>\n",
       "      <td>30.0</td>\n",
       "      <td>7.6</td>\n",
       "      <td>97</td>\n",
       "    </tr>\n",
       "    <tr>\n",
       "      <th>2</th>\n",
       "      <td>Space Patrol</td>\n",
       "      <td>False</td>\n",
       "      <td>1950</td>\n",
       "      <td>1955.0</td>\n",
       "      <td>30.0</td>\n",
       "      <td>7.6</td>\n",
       "      <td>74</td>\n",
       "    </tr>\n",
       "    <tr>\n",
       "      <th>3</th>\n",
       "      <td>Buck Rogers</td>\n",
       "      <td>False</td>\n",
       "      <td>1950</td>\n",
       "      <td>1950.0</td>\n",
       "      <td>30.0</td>\n",
       "      <td>6.9</td>\n",
       "      <td>34</td>\n",
       "    </tr>\n",
       "    <tr>\n",
       "      <th>4</th>\n",
       "      <td>Out There</td>\n",
       "      <td>False</td>\n",
       "      <td>1951</td>\n",
       "      <td>1952.0</td>\n",
       "      <td>30.0</td>\n",
       "      <td>6.6</td>\n",
       "      <td>10</td>\n",
       "    </tr>\n",
       "    <tr>\n",
       "      <th>...</th>\n",
       "      <td>...</td>\n",
       "      <td>...</td>\n",
       "      <td>...</td>\n",
       "      <td>...</td>\n",
       "      <td>...</td>\n",
       "      <td>...</td>\n",
       "      <td>...</td>\n",
       "    </tr>\n",
       "    <tr>\n",
       "      <th>1304</th>\n",
       "      <td>Hard Sun</td>\n",
       "      <td>False</td>\n",
       "      <td>2018</td>\n",
       "      <td>2018.0</td>\n",
       "      <td>60.0</td>\n",
       "      <td>6.6</td>\n",
       "      <td>2080</td>\n",
       "    </tr>\n",
       "    <tr>\n",
       "      <th>1305</th>\n",
       "      <td>KILLING BITES</td>\n",
       "      <td>False</td>\n",
       "      <td>2018</td>\n",
       "      <td>2018.0</td>\n",
       "      <td>24.0</td>\n",
       "      <td>7.5</td>\n",
       "      <td>21</td>\n",
       "    </tr>\n",
       "    <tr>\n",
       "      <th>1306</th>\n",
       "      <td>Altered Carbon</td>\n",
       "      <td>False</td>\n",
       "      <td>2018</td>\n",
       "      <td>2018.0</td>\n",
       "      <td>60.0</td>\n",
       "      <td>8.5</td>\n",
       "      <td>35421</td>\n",
       "    </tr>\n",
       "    <tr>\n",
       "      <th>1307</th>\n",
       "      <td>Age of the Living Dead</td>\n",
       "      <td>False</td>\n",
       "      <td>2018</td>\n",
       "      <td>2018.0</td>\n",
       "      <td>NaN</td>\n",
       "      <td>7.3</td>\n",
       "      <td>30</td>\n",
       "    </tr>\n",
       "    <tr>\n",
       "      <th>1308</th>\n",
       "      <td>Counterpart</td>\n",
       "      <td>False</td>\n",
       "      <td>2018</td>\n",
       "      <td>2018.0</td>\n",
       "      <td>60.0</td>\n",
       "      <td>8.3</td>\n",
       "      <td>3316</td>\n",
       "    </tr>\n",
       "  </tbody>\n",
       "</table>\n",
       "<p>1309 rows × 7 columns</p>\n",
       "</div>"
      ],
      "text/plain": [
       "                   primaryTitle  isAdult  startYear  endYear  runtimeMinutes  \\\n",
       "0     Casper the Friendly Ghost    False       1945   1945.0             7.0   \n",
       "1                    Lights Out    False       1946   1952.0            30.0   \n",
       "2                  Space Patrol    False       1950   1955.0            30.0   \n",
       "3                   Buck Rogers    False       1950   1950.0            30.0   \n",
       "4                     Out There    False       1951   1952.0            30.0   \n",
       "...                         ...      ...        ...      ...             ...   \n",
       "1304                   Hard Sun    False       2018   2018.0            60.0   \n",
       "1305              KILLING BITES    False       2018   2018.0            24.0   \n",
       "1306             Altered Carbon    False       2018   2018.0            60.0   \n",
       "1307     Age of the Living Dead    False       2018   2018.0             NaN   \n",
       "1308                Counterpart    False       2018   2018.0            60.0   \n",
       "\n",
       "      averageRating  numVotes  \n",
       "0               8.8         9  \n",
       "1               7.6        97  \n",
       "2               7.6        74  \n",
       "3               6.9        34  \n",
       "4               6.6        10  \n",
       "...             ...       ...  \n",
       "1304            6.6      2080  \n",
       "1305            7.5        21  \n",
       "1306            8.5     35421  \n",
       "1307            7.3        30  \n",
       "1308            8.3      3316  \n",
       "\n",
       "[1309 rows x 7 columns]"
      ]
     },
     "execution_count": 210,
     "metadata": {},
     "output_type": "execute_result"
    }
   ],
   "source": [
    "sftv_df.endYear.fillna(sftv_df.startYear, inplace=True)\n",
    "sftv_df"
   ]
  },
  {
   "cell_type": "markdown",
   "id": "8ebda3bd-8277-4bc3-a4bb-4dd9048ccbfb",
   "metadata": {},
   "source": [
    "startYear and endYear appear to have different datatypes, so let's take a look at that:"
   ]
  },
  {
   "cell_type": "code",
   "execution_count": 211,
   "id": "d3c1cb5a-e6ad-4f9b-9de7-e4c1727064a3",
   "metadata": {},
   "outputs": [
    {
     "name": "stdout",
     "output_type": "stream",
     "text": [
      "<class 'pandas.core.frame.DataFrame'>\n",
      "RangeIndex: 1309 entries, 0 to 1308\n",
      "Data columns (total 7 columns):\n",
      " #   Column          Non-Null Count  Dtype  \n",
      "---  ------          --------------  -----  \n",
      " 0   primaryTitle    1309 non-null   object \n",
      " 1   isAdult         1309 non-null   bool   \n",
      " 2   startYear       1309 non-null   int64  \n",
      " 3   endYear         1309 non-null   float64\n",
      " 4   runtimeMinutes  833 non-null    float64\n",
      " 5   averageRating   1309 non-null   float64\n",
      " 6   numVotes        1309 non-null   int64  \n",
      "dtypes: bool(1), float64(3), int64(2), object(1)\n",
      "memory usage: 62.8+ KB\n"
     ]
    }
   ],
   "source": [
    "sftv_df.info()"
   ]
  },
  {
   "cell_type": "markdown",
   "id": "b4515f26-7b57-4ec4-98e8-ad476816894a",
   "metadata": {},
   "source": [
    "They should both be int. Also runtimeMinutes doesn't need to be float either, but it throws an error when attempting to convert it to int (perhaps due to the large number of nulls), so we'll let it be for now."
   ]
  },
  {
   "cell_type": "code",
   "execution_count": 212,
   "id": "67a6948b-fd02-4104-9cc9-656cfbda8834",
   "metadata": {},
   "outputs": [
    {
     "name": "stdout",
     "output_type": "stream",
     "text": [
      "<class 'pandas.core.frame.DataFrame'>\n",
      "RangeIndex: 1309 entries, 0 to 1308\n",
      "Data columns (total 7 columns):\n",
      " #   Column          Non-Null Count  Dtype  \n",
      "---  ------          --------------  -----  \n",
      " 0   primaryTitle    1309 non-null   object \n",
      " 1   isAdult         1309 non-null   bool   \n",
      " 2   startYear       1309 non-null   int64  \n",
      " 3   endYear         1309 non-null   int64  \n",
      " 4   runtimeMinutes  833 non-null    float64\n",
      " 5   averageRating   1309 non-null   float64\n",
      " 6   numVotes        1309 non-null   int64  \n",
      "dtypes: bool(1), float64(2), int64(3), object(1)\n",
      "memory usage: 62.8+ KB\n"
     ]
    }
   ],
   "source": [
    "sftv_df['endYear'] = sftv_df['endYear'].astype('int64')\n",
    "sftv_df.info()"
   ]
  },
  {
   "cell_type": "markdown",
   "id": "974d7ddc-5d89-44fb-b196-2976b980c2f5",
   "metadata": {},
   "source": [
    "FInally let's look at the isAdult column to see if we want to keep it. How many adult Sci-Fi TV shows are there?"
   ]
  },
  {
   "cell_type": "code",
   "execution_count": 213,
   "id": "5bf039ed-4ac0-46fe-82ba-fc079f549bd9",
   "metadata": {},
   "outputs": [
    {
     "data": {
      "text/plain": [
       "False    1308\n",
       "True        1\n",
       "Name: isAdult, dtype: int64"
      ]
     },
     "execution_count": 213,
     "metadata": {},
     "output_type": "execute_result"
    }
   ],
   "source": [
    "sftv_df.isAdult.value_counts()"
   ]
  },
  {
   "cell_type": "markdown",
   "id": "d676d2af-e200-4647-9f20-c1e8d1d87c13",
   "metadata": {},
   "source": [
    "Since there is only one adult SF TV show, it is not a useful piece of information for analysis, and we can drop the row and column."
   ]
  },
  {
   "cell_type": "code",
   "execution_count": 214,
   "id": "773360e3-0e8f-42d8-8dc2-40c29388545e",
   "metadata": {},
   "outputs": [],
   "source": [
    "sftv_df = sftv_df.query(\"isAdult == False\")\n",
    "sftv_df = sftv_df.drop(columns=['isAdult'])"
   ]
  },
  {
   "cell_type": "markdown",
   "id": "bcebb792-6b9d-4404-b072-589b2c872ab0",
   "metadata": {},
   "source": [
    "Check for duplicate rows:"
   ]
  },
  {
   "cell_type": "code",
   "execution_count": 215,
   "id": "1f6b8e8c-2e13-4b96-997c-08b847daccb9",
   "metadata": {},
   "outputs": [
    {
     "data": {
      "text/html": [
       "<div>\n",
       "<style scoped>\n",
       "    .dataframe tbody tr th:only-of-type {\n",
       "        vertical-align: middle;\n",
       "    }\n",
       "\n",
       "    .dataframe tbody tr th {\n",
       "        vertical-align: top;\n",
       "    }\n",
       "\n",
       "    .dataframe thead th {\n",
       "        text-align: right;\n",
       "    }\n",
       "</style>\n",
       "<table border=\"1\" class=\"dataframe\">\n",
       "  <thead>\n",
       "    <tr style=\"text-align: right;\">\n",
       "      <th></th>\n",
       "      <th>primaryTitle</th>\n",
       "      <th>startYear</th>\n",
       "      <th>endYear</th>\n",
       "      <th>runtimeMinutes</th>\n",
       "      <th>averageRating</th>\n",
       "      <th>numVotes</th>\n",
       "    </tr>\n",
       "  </thead>\n",
       "  <tbody>\n",
       "  </tbody>\n",
       "</table>\n",
       "</div>"
      ],
      "text/plain": [
       "Empty DataFrame\n",
       "Columns: [primaryTitle, startYear, endYear, runtimeMinutes, averageRating, numVotes]\n",
       "Index: []"
      ]
     },
     "execution_count": 215,
     "metadata": {},
     "output_type": "execute_result"
    }
   ],
   "source": [
    "sftv_df[sftv_df.duplicated(keep=False)]"
   ]
  },
  {
   "cell_type": "markdown",
   "id": "76b40255-7457-44a3-ac97-e386e29792de",
   "metadata": {},
   "source": [
    "Final look at the Dataframe:"
   ]
  },
  {
   "cell_type": "code",
   "execution_count": 216,
   "id": "29ea4847-f65c-4bdd-84ad-dff0823d17df",
   "metadata": {},
   "outputs": [
    {
     "data": {
      "text/html": [
       "<div>\n",
       "<style scoped>\n",
       "    .dataframe tbody tr th:only-of-type {\n",
       "        vertical-align: middle;\n",
       "    }\n",
       "\n",
       "    .dataframe tbody tr th {\n",
       "        vertical-align: top;\n",
       "    }\n",
       "\n",
       "    .dataframe thead th {\n",
       "        text-align: right;\n",
       "    }\n",
       "</style>\n",
       "<table border=\"1\" class=\"dataframe\">\n",
       "  <thead>\n",
       "    <tr style=\"text-align: right;\">\n",
       "      <th></th>\n",
       "      <th>primaryTitle</th>\n",
       "      <th>startYear</th>\n",
       "      <th>endYear</th>\n",
       "      <th>runtimeMinutes</th>\n",
       "      <th>averageRating</th>\n",
       "      <th>numVotes</th>\n",
       "    </tr>\n",
       "  </thead>\n",
       "  <tbody>\n",
       "    <tr>\n",
       "      <th>0</th>\n",
       "      <td>Casper the Friendly Ghost</td>\n",
       "      <td>1945</td>\n",
       "      <td>1945</td>\n",
       "      <td>7.0</td>\n",
       "      <td>8.8</td>\n",
       "      <td>9</td>\n",
       "    </tr>\n",
       "    <tr>\n",
       "      <th>1</th>\n",
       "      <td>Lights Out</td>\n",
       "      <td>1946</td>\n",
       "      <td>1952</td>\n",
       "      <td>30.0</td>\n",
       "      <td>7.6</td>\n",
       "      <td>97</td>\n",
       "    </tr>\n",
       "    <tr>\n",
       "      <th>2</th>\n",
       "      <td>Space Patrol</td>\n",
       "      <td>1950</td>\n",
       "      <td>1955</td>\n",
       "      <td>30.0</td>\n",
       "      <td>7.6</td>\n",
       "      <td>74</td>\n",
       "    </tr>\n",
       "    <tr>\n",
       "      <th>3</th>\n",
       "      <td>Buck Rogers</td>\n",
       "      <td>1950</td>\n",
       "      <td>1950</td>\n",
       "      <td>30.0</td>\n",
       "      <td>6.9</td>\n",
       "      <td>34</td>\n",
       "    </tr>\n",
       "    <tr>\n",
       "      <th>4</th>\n",
       "      <td>Out There</td>\n",
       "      <td>1951</td>\n",
       "      <td>1952</td>\n",
       "      <td>30.0</td>\n",
       "      <td>6.6</td>\n",
       "      <td>10</td>\n",
       "    </tr>\n",
       "    <tr>\n",
       "      <th>...</th>\n",
       "      <td>...</td>\n",
       "      <td>...</td>\n",
       "      <td>...</td>\n",
       "      <td>...</td>\n",
       "      <td>...</td>\n",
       "      <td>...</td>\n",
       "    </tr>\n",
       "    <tr>\n",
       "      <th>1304</th>\n",
       "      <td>Hard Sun</td>\n",
       "      <td>2018</td>\n",
       "      <td>2018</td>\n",
       "      <td>60.0</td>\n",
       "      <td>6.6</td>\n",
       "      <td>2080</td>\n",
       "    </tr>\n",
       "    <tr>\n",
       "      <th>1305</th>\n",
       "      <td>KILLING BITES</td>\n",
       "      <td>2018</td>\n",
       "      <td>2018</td>\n",
       "      <td>24.0</td>\n",
       "      <td>7.5</td>\n",
       "      <td>21</td>\n",
       "    </tr>\n",
       "    <tr>\n",
       "      <th>1306</th>\n",
       "      <td>Altered Carbon</td>\n",
       "      <td>2018</td>\n",
       "      <td>2018</td>\n",
       "      <td>60.0</td>\n",
       "      <td>8.5</td>\n",
       "      <td>35421</td>\n",
       "    </tr>\n",
       "    <tr>\n",
       "      <th>1307</th>\n",
       "      <td>Age of the Living Dead</td>\n",
       "      <td>2018</td>\n",
       "      <td>2018</td>\n",
       "      <td>NaN</td>\n",
       "      <td>7.3</td>\n",
       "      <td>30</td>\n",
       "    </tr>\n",
       "    <tr>\n",
       "      <th>1308</th>\n",
       "      <td>Counterpart</td>\n",
       "      <td>2018</td>\n",
       "      <td>2018</td>\n",
       "      <td>60.0</td>\n",
       "      <td>8.3</td>\n",
       "      <td>3316</td>\n",
       "    </tr>\n",
       "  </tbody>\n",
       "</table>\n",
       "<p>1308 rows × 6 columns</p>\n",
       "</div>"
      ],
      "text/plain": [
       "                   primaryTitle  startYear  endYear  runtimeMinutes  \\\n",
       "0     Casper the Friendly Ghost       1945     1945             7.0   \n",
       "1                    Lights Out       1946     1952            30.0   \n",
       "2                  Space Patrol       1950     1955            30.0   \n",
       "3                   Buck Rogers       1950     1950            30.0   \n",
       "4                     Out There       1951     1952            30.0   \n",
       "...                         ...        ...      ...             ...   \n",
       "1304                   Hard Sun       2018     2018            60.0   \n",
       "1305              KILLING BITES       2018     2018            24.0   \n",
       "1306             Altered Carbon       2018     2018            60.0   \n",
       "1307     Age of the Living Dead       2018     2018             NaN   \n",
       "1308                Counterpart       2018     2018            60.0   \n",
       "\n",
       "      averageRating  numVotes  \n",
       "0               8.8         9  \n",
       "1               7.6        97  \n",
       "2               7.6        74  \n",
       "3               6.9        34  \n",
       "4               6.6        10  \n",
       "...             ...       ...  \n",
       "1304            6.6      2080  \n",
       "1305            7.5        21  \n",
       "1306            8.5     35421  \n",
       "1307            7.3        30  \n",
       "1308            8.3      3316  \n",
       "\n",
       "[1308 rows x 6 columns]"
      ]
     },
     "execution_count": 216,
     "metadata": {},
     "output_type": "execute_result"
    }
   ],
   "source": [
    "sftv_df"
   ]
  },
  {
   "cell_type": "code",
   "execution_count": null,
   "id": "116e52c4-b0f5-4e33-a8c1-be69f2f5d7ee",
   "metadata": {},
   "outputs": [],
   "source": []
  }
 ],
 "metadata": {
  "kernelspec": {
   "display_name": "Python 3 (ipykernel)",
   "language": "python",
   "name": "python3"
  },
  "language_info": {
   "codemirror_mode": {
    "name": "ipython",
    "version": 3
   },
   "file_extension": ".py",
   "mimetype": "text/x-python",
   "name": "python",
   "nbconvert_exporter": "python",
   "pygments_lexer": "ipython3",
   "version": "3.9.13"
  }
 },
 "nbformat": 4,
 "nbformat_minor": 5
}
