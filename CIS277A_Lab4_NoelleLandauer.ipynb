{
 "cells": [
  {
   "cell_type": "markdown",
   "id": "9b4b7873-c5c3-491f-aaf1-e187f94aa73e",
   "metadata": {
    "tags": []
   },
   "source": [
    "### Noelle Landauer\n",
    "#### CIS277A, Lab 4, 10/26/22\n",
    "---"
   ]
  },
  {
   "cell_type": "markdown",
   "id": "f03b790d-2dbb-4ffd-938d-7fb031a5e665",
   "metadata": {},
   "source": [
    "# Bike Sharing in Washington DC: Daily rider counts with weather information"
   ]
  },
  {
   "cell_type": "markdown",
   "id": "507de69b-ca11-4f1b-a608-0f6d3aee2c75",
   "metadata": {},
   "source": [
    "[Original data source](https://www.kaggle.com/datasets/marklvl/bike-sharing-dataset?select=day.csv)"
   ]
  },
  {
   "cell_type": "markdown",
   "id": "f3e9c63e-fb51-4a6f-879b-bcf92585963c",
   "metadata": {},
   "source": [
    "Import the Pandas module:"
   ]
  },
  {
   "cell_type": "code",
   "execution_count": 9,
   "id": "437e6a47-f1c0-48bd-a8d0-735ce5167ee7",
   "metadata": {},
   "outputs": [],
   "source": [
    "import pandas as pd"
   ]
  },
  {
   "cell_type": "markdown",
   "id": "7197b2c2-eb2e-42a0-a8e7-d9717657ca49",
   "metadata": {},
   "source": [
    "Read 3 columns of data from a .csv file into a Pandas dataframe:"
   ]
  },
  {
   "cell_type": "code",
   "execution_count": 10,
   "id": "14b09108-db5d-4c5e-a239-200889842a4c",
   "metadata": {},
   "outputs": [],
   "source": [
    "# only importing 3 columns: \n",
    "# temperature (normalized Celsius), unregistered rider count, registered rider count\n",
    "bikeshare_df = pd.read_csv(r\"C:\\Users\\noell\\OneDrive\\Documents\\Classes\\CIS277A_DataAnalytics\\277A_Lab4_NoelleLandauer\\BikeShareDCbyDay.csv\",\n",
    "                          usecols=['temp','casual','registered'])"
   ]
  },
  {
   "cell_type": "markdown",
   "id": "e3a654c7-ac38-4b37-b432-9d5e9fba8e1f",
   "metadata": {},
   "source": [
    "Display the top 20 rows (plus column labels) from the dataframe:"
   ]
  },
  {
   "cell_type": "code",
   "execution_count": 11,
   "id": "8af6d768-4bc5-4c2b-95c9-07336ccee116",
   "metadata": {
    "tags": []
   },
   "outputs": [
    {
     "data": {
      "text/html": [
       "<div>\n",
       "<style scoped>\n",
       "    .dataframe tbody tr th:only-of-type {\n",
       "        vertical-align: middle;\n",
       "    }\n",
       "\n",
       "    .dataframe tbody tr th {\n",
       "        vertical-align: top;\n",
       "    }\n",
       "\n",
       "    .dataframe thead th {\n",
       "        text-align: right;\n",
       "    }\n",
       "</style>\n",
       "<table border=\"1\" class=\"dataframe\">\n",
       "  <thead>\n",
       "    <tr style=\"text-align: right;\">\n",
       "      <th></th>\n",
       "      <th>temp</th>\n",
       "      <th>casual</th>\n",
       "      <th>registered</th>\n",
       "    </tr>\n",
       "  </thead>\n",
       "  <tbody>\n",
       "    <tr>\n",
       "      <th>0</th>\n",
       "      <td>0.344167</td>\n",
       "      <td>331</td>\n",
       "      <td>654</td>\n",
       "    </tr>\n",
       "    <tr>\n",
       "      <th>1</th>\n",
       "      <td>0.363478</td>\n",
       "      <td>131</td>\n",
       "      <td>670</td>\n",
       "    </tr>\n",
       "    <tr>\n",
       "      <th>2</th>\n",
       "      <td>0.196364</td>\n",
       "      <td>120</td>\n",
       "      <td>1229</td>\n",
       "    </tr>\n",
       "    <tr>\n",
       "      <th>3</th>\n",
       "      <td>0.200000</td>\n",
       "      <td>108</td>\n",
       "      <td>1454</td>\n",
       "    </tr>\n",
       "    <tr>\n",
       "      <th>4</th>\n",
       "      <td>0.226957</td>\n",
       "      <td>82</td>\n",
       "      <td>1518</td>\n",
       "    </tr>\n",
       "    <tr>\n",
       "      <th>5</th>\n",
       "      <td>0.204348</td>\n",
       "      <td>88</td>\n",
       "      <td>1518</td>\n",
       "    </tr>\n",
       "    <tr>\n",
       "      <th>6</th>\n",
       "      <td>0.196522</td>\n",
       "      <td>148</td>\n",
       "      <td>1362</td>\n",
       "    </tr>\n",
       "    <tr>\n",
       "      <th>7</th>\n",
       "      <td>0.165000</td>\n",
       "      <td>68</td>\n",
       "      <td>891</td>\n",
       "    </tr>\n",
       "    <tr>\n",
       "      <th>8</th>\n",
       "      <td>0.138333</td>\n",
       "      <td>54</td>\n",
       "      <td>768</td>\n",
       "    </tr>\n",
       "    <tr>\n",
       "      <th>9</th>\n",
       "      <td>0.150833</td>\n",
       "      <td>41</td>\n",
       "      <td>1280</td>\n",
       "    </tr>\n",
       "    <tr>\n",
       "      <th>10</th>\n",
       "      <td>0.169091</td>\n",
       "      <td>43</td>\n",
       "      <td>1220</td>\n",
       "    </tr>\n",
       "    <tr>\n",
       "      <th>11</th>\n",
       "      <td>0.172727</td>\n",
       "      <td>25</td>\n",
       "      <td>1137</td>\n",
       "    </tr>\n",
       "    <tr>\n",
       "      <th>12</th>\n",
       "      <td>0.165000</td>\n",
       "      <td>38</td>\n",
       "      <td>1368</td>\n",
       "    </tr>\n",
       "    <tr>\n",
       "      <th>13</th>\n",
       "      <td>0.160870</td>\n",
       "      <td>54</td>\n",
       "      <td>1367</td>\n",
       "    </tr>\n",
       "    <tr>\n",
       "      <th>14</th>\n",
       "      <td>0.233333</td>\n",
       "      <td>222</td>\n",
       "      <td>1026</td>\n",
       "    </tr>\n",
       "    <tr>\n",
       "      <th>15</th>\n",
       "      <td>0.231667</td>\n",
       "      <td>251</td>\n",
       "      <td>953</td>\n",
       "    </tr>\n",
       "    <tr>\n",
       "      <th>16</th>\n",
       "      <td>0.175833</td>\n",
       "      <td>117</td>\n",
       "      <td>883</td>\n",
       "    </tr>\n",
       "    <tr>\n",
       "      <th>17</th>\n",
       "      <td>0.216667</td>\n",
       "      <td>9</td>\n",
       "      <td>674</td>\n",
       "    </tr>\n",
       "    <tr>\n",
       "      <th>18</th>\n",
       "      <td>0.292174</td>\n",
       "      <td>78</td>\n",
       "      <td>1572</td>\n",
       "    </tr>\n",
       "    <tr>\n",
       "      <th>19</th>\n",
       "      <td>0.261667</td>\n",
       "      <td>83</td>\n",
       "      <td>1844</td>\n",
       "    </tr>\n",
       "    <tr>\n",
       "      <th>20</th>\n",
       "      <td>0.177500</td>\n",
       "      <td>75</td>\n",
       "      <td>1468</td>\n",
       "    </tr>\n",
       "  </tbody>\n",
       "</table>\n",
       "</div>"
      ],
      "text/plain": [
       "        temp  casual  registered\n",
       "0   0.344167     331         654\n",
       "1   0.363478     131         670\n",
       "2   0.196364     120        1229\n",
       "3   0.200000     108        1454\n",
       "4   0.226957      82        1518\n",
       "5   0.204348      88        1518\n",
       "6   0.196522     148        1362\n",
       "7   0.165000      68         891\n",
       "8   0.138333      54         768\n",
       "9   0.150833      41        1280\n",
       "10  0.169091      43        1220\n",
       "11  0.172727      25        1137\n",
       "12  0.165000      38        1368\n",
       "13  0.160870      54        1367\n",
       "14  0.233333     222        1026\n",
       "15  0.231667     251         953\n",
       "16  0.175833     117         883\n",
       "17  0.216667       9         674\n",
       "18  0.292174      78        1572\n",
       "19  0.261667      83        1844\n",
       "20  0.177500      75        1468"
      ]
     },
     "execution_count": 11,
     "metadata": {},
     "output_type": "execute_result"
    }
   ],
   "source": [
    "bikeshare_df.head(21)"
   ]
  },
  {
   "cell_type": "markdown",
   "id": "b5a224c3-eb0f-424f-b850-b3145109439b",
   "metadata": {},
   "source": [
    "# Top-rated Science Fiction movies according to IMDB users"
   ]
  },
  {
   "cell_type": "markdown",
   "id": "823a8a56-e8d0-4afd-9d96-d9652602d4dd",
   "metadata": {},
   "source": [
    "Import pyodbc, a module to connect Python and ODBC servers:"
   ]
  },
  {
   "cell_type": "code",
   "execution_count": 12,
   "id": "977efd28-de2c-4509-a078-76a2acb2c299",
   "metadata": {},
   "outputs": [],
   "source": [
    "import pyodbc"
   ]
  },
  {
   "cell_type": "markdown",
   "id": "34c31a65-9703-402a-85cd-3b33faea1c42",
   "metadata": {},
   "source": [
    "Create a connection object to log in to cisdbss.pcc.edu server:"
   ]
  },
  {
   "cell_type": "code",
   "execution_count": 13,
   "id": "1c0eeacb-dc2c-4be9-9c5e-981891c74d01",
   "metadata": {},
   "outputs": [
    {
     "data": {
      "text/plain": [
       "<pyodbc.Connection at 0x1db23faa6b0>"
      ]
     },
     "execution_count": 13,
     "metadata": {},
     "output_type": "execute_result"
    }
   ],
   "source": [
    "connection = pyodbc.connect(\n",
    "    server=\"scrubbed.pcc.edu\",\n",
    "    user=\"username\",\n",
    "    password=\"password\",\n",
    "    database=\"IMDB\",\n",
    "    driver=\"{ODBC Driver 17 for SQL Server}\")\n",
    "\n",
    "connection"
   ]
  },
  {
   "cell_type": "markdown",
   "id": "aeaef2af-a67b-4b0f-afc6-b3e45248e326",
   "metadata": {},
   "source": [
    "SQL query to retrieve the top 20 SF movies and their average ranking (among movies with at least 10,000 votes) from the IMDB database:"
   ]
  },
  {
   "cell_type": "code",
   "execution_count": 14,
   "id": "9f7cd945-1feb-4241-846e-f0f1254b5567",
   "metadata": {},
   "outputs": [],
   "source": [
    "sql = '''SELECT TOP 20 tb.primaryTitle AS Title, \n",
    "    tr.averageRating AS \"Average Rating\"\n",
    "FROM title_basics AS tb\n",
    "JOIN title_ratings AS tr ON tb.tconst = tr.tconst\n",
    "JOIN title_genre AS tg ON tb.tconst = tg.tconst\n",
    "WHERE genre='Sci-Fi'\n",
    "AND numVotes >=10000\n",
    "AND titleType = 'movie'\n",
    "ORDER BY tr.averageRating DESC;'''"
   ]
  },
  {
   "cell_type": "markdown",
   "id": "18d0cd6a-c5e3-47f9-9995-53a231e1827d",
   "metadata": {},
   "source": [
    "Query database and import resulting rows into a Pandas dataframe:"
   ]
  },
  {
   "cell_type": "code",
   "execution_count": 15,
   "id": "a05fa676-1f4e-491f-94f0-783a99a1e0e0",
   "metadata": {},
   "outputs": [
    {
     "name": "stderr",
     "output_type": "stream",
     "text": [
      "C:\\Users\\noell\\anaconda3\\lib\\site-packages\\pandas\\io\\sql.py:762: UserWarning: pandas only support SQLAlchemy connectable(engine/connection) ordatabase string URI or sqlite3 DBAPI2 connectionother DBAPI2 objects are not tested, please consider using SQLAlchemy\n",
      "  warnings.warn(\n"
     ]
    }
   ],
   "source": [
    "topSFmovies_df = pd.read_sql_query(sql, connection)"
   ]
  },
  {
   "cell_type": "markdown",
   "id": "89eaed59-b3cf-47e1-a10f-3837747c4353",
   "metadata": {},
   "source": [
    "Print contents of dataframe:"
   ]
  },
  {
   "cell_type": "code",
   "execution_count": 16,
   "id": "c7d1b8ed-f588-440e-aaf3-503abd3396a5",
   "metadata": {},
   "outputs": [
    {
     "name": "stdout",
     "output_type": "stream",
     "text": [
      "                                    Title  Average Rating\n",
      "0                               Inception             8.8\n",
      "1                              The Matrix             8.7\n",
      "2                            Interstellar             8.6\n",
      "3                            The Prestige             8.5\n",
      "4                                   Alien             8.5\n",
      "5                            Terminator 2             8.5\n",
      "6                      Back to the Future             8.5\n",
      "7                                  Aliens             8.4\n",
      "8   Eternal Sunshine of the Spotless Mind             8.3\n",
      "9                      A Clockwork Orange             8.3\n",
      "10                             Metropolis             8.3\n",
      "11                  2001: A Space Odyssey             8.3\n",
      "12                           Blade Runner             8.2\n",
      "13                                     PK             8.2\n",
      "14                      Blade Runner 2049             8.2\n",
      "15                         V for Vendetta             8.2\n",
      "16                           The Avengers             8.1\n",
      "17                     Mad Max: Fury Road             8.1\n",
      "18                Guardians of the Galaxy             8.1\n",
      "19                                  Logan             8.1\n"
     ]
    }
   ],
   "source": [
    "print(topSFmovies_df)"
   ]
  }
 ],
 "metadata": {
  "kernelspec": {
   "display_name": "Python 3 (ipykernel)",
   "language": "python",
   "name": "python3"
  },
  "language_info": {
   "codemirror_mode": {
    "name": "ipython",
    "version": 3
   },
   "file_extension": ".py",
   "mimetype": "text/x-python",
   "name": "python",
   "nbconvert_exporter": "python",
   "pygments_lexer": "ipython3",
   "version": "3.9.13"
  }
 },
 "nbformat": 4,
 "nbformat_minor": 5
}
